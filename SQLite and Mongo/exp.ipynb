{
 "cells": [
  {
   "cell_type": "code",
   "execution_count": 123,
   "metadata": {},
   "outputs": [],
   "source": [
    "import sqlite3\n",
    "import pandas as pd"
   ]
  },
  {
   "cell_type": "code",
   "execution_count": 124,
   "metadata": {},
   "outputs": [],
   "source": [
    "def create_db_conn(db_name):\n",
    "    conn = None\n",
    "    try:\n",
    "        conn = sqlite3.connect(db_name)\n",
    "        print(f\"Database '{db_name}' created successfully\")\n",
    "\n",
    "    except sqlite3.Error as e:\n",
    "        print(f\"The error '{e}' occurred\")\n",
    "    \n",
    "    return conn"
   ]
  },
  {
   "cell_type": "code",
   "execution_count": 125,
   "metadata": {},
   "outputs": [
    {
     "name": "stdout",
     "output_type": "stream",
     "text": [
      "Database 'Try' created successfully\n"
     ]
    }
   ],
   "source": [
    "conn = create_db_conn(\"Try\")"
   ]
  },
  {
   "cell_type": "code",
   "execution_count": 126,
   "metadata": {},
   "outputs": [],
   "source": [
    "class example_db():\n",
    "    def __init__(self, db_name):\n",
    "        try:\n",
    "           conn = sqlite3.connect(db_name)\n",
    "           print(f\"Database '{db_name}' created successfully\")\n",
    "        except sqlite3.Error as e:\n",
    "           print(f\"The error '{e}' occurred\")\n",
    "           conn = None\n",
    "        self.conn = conn\n",
    "        self.db_name = db_name\n",
    "        self.close()\n",
    "\n",
    "    def create_table(self, table_command):\n",
    "        self.connect()\n",
    "        cursor = self.conn.cursor()\n",
    "        try:\n",
    "            cursor.execute(table_command)\n",
    "            self.conn.commit()\n",
    "            print(\"Table created successfully\")\n",
    "        except sqlite3.Error as e:\n",
    "            print(f\"The error '{e}' occurred\")\n",
    "        self.close()\n",
    "\n",
    "    def execute(self, query):\n",
    "        self.connect()\n",
    "        cursor = self.conn.cursor()\n",
    "        try:\n",
    "            cursor.execute(query)\n",
    "            self.conn.commit()\n",
    "            print(\"Query executed successfully\")\n",
    "        except sqlite3.Error as e:\n",
    "            print(f\"The error '{e}' occurred\")\n",
    "        self.close()\n",
    "\n",
    "    def r_query(self, query):\n",
    "        self.connect()\n",
    "        cursor = self.conn.cursor()\n",
    "        r = None\n",
    "        try:\n",
    "            cursor.execute(query)\n",
    "            r = cursor.fetchall()\n",
    "            self.close()\n",
    "            return r\n",
    "        except sqlite3.Error as e:\n",
    "            print(f\"The error '{e}' occurred\")\n",
    "            self.close()\n",
    "            return r\n",
    "      \n",
    "    def to_df(self, query, cols):\n",
    "        from_db = []\n",
    "\n",
    "        r = self.r_query(query)\n",
    "        for e in r:\n",
    "            r = list(e)\n",
    "            from_db.append(r)\n",
    "\n",
    "        df = pd.DataFrame(from_db, columns=cols)\n",
    "        return df\n",
    "    \n",
    "    def close(self):\n",
    "        self.conn.close()\n",
    "\n",
    "    def connect(self):\n",
    "        self.conn = sqlite3.connect(self.db_name)\n",
    "\n"
   ]
  },
  {
   "cell_type": "code",
   "execution_count": 127,
   "metadata": {},
   "outputs": [
    {
     "name": "stdout",
     "output_type": "stream",
     "text": [
      "Database 'Example' created successfully\n"
     ]
    }
   ],
   "source": [
    "dbA = example_db(\"Example\")"
   ]
  },
  {
   "cell_type": "code",
   "execution_count": 128,
   "metadata": {},
   "outputs": [],
   "source": [
    "paper_table = \"\"\"\n",
    "    CREATE TABLE IF NOT EXISTS paper (\n",
    "        paper_id INTEGER PRIMARY KEY,\n",
    "        title TEXT NOT NULL,\n",
    "        author_id TEXT NOT NULL,\n",
    "        publication_date TEXT NOT NULL\n",
    "    )\n",
    "\"\"\"\n",
    "\n",
    "author_table = \"\"\"\n",
    "    CREATE TABLE IF NOT EXISTS author (\n",
    "        author_id INTEGER PRIMARY KEY,\n",
    "        name TEXT NOT NULL,\n",
    "        paper_id INT\n",
    "    )\n",
    "\"\"\""
   ]
  },
  {
   "cell_type": "code",
   "execution_count": 129,
   "metadata": {},
   "outputs": [
    {
     "name": "stdout",
     "output_type": "stream",
     "text": [
      "Table created successfully\n",
      "Table created successfully\n"
     ]
    }
   ],
   "source": [
    "dbA.create_table(paper_table)\n",
    "dbA.create_table(author_table)"
   ]
  },
  {
   "cell_type": "code",
   "execution_count": 130,
   "metadata": {},
   "outputs": [],
   "source": [
    "papers = \"\"\"\n",
    "    INSERT INTO paper (paper_id, title, author_id, publication_date) VALUES\n",
    "    (111, 'Paper A', '1', '2023-01-01'),\n",
    "    (222, 'Paper B', '2', '2023-02-01'),\n",
    "    (333, 'Paper C', '3', '2023-03-01')\n",
    "\"\"\"\n",
    "\n",
    "authors = \"\"\"\n",
    "    INSERT INTO author (author_id, name, paper_id) VALUES\n",
    "    (1, 'Author A', 1),\n",
    "    (2, 'Author B', 2),\n",
    "    (3, 'Author C', 3)\n",
    "\"\"\""
   ]
  },
  {
   "cell_type": "code",
   "execution_count": 131,
   "metadata": {},
   "outputs": [
    {
     "name": "stdout",
     "output_type": "stream",
     "text": [
      "Query executed successfully\n",
      "Query executed successfully\n"
     ]
    }
   ],
   "source": [
    "dbA.execute(papers)\n",
    "dbA.execute(authors)"
   ]
  },
  {
   "cell_type": "code",
   "execution_count": 132,
   "metadata": {},
   "outputs": [],
   "source": [
    "q1 = \"\"\"\n",
    "SELECT * FROM author;\n",
    "\"\"\"\n",
    "\n",
    "q2 = \"\"\"\n",
    "SELECT * FROM paper\n",
    "WHERE paper_id > 1\n",
    "ORDER BY paper_id DESC;\n",
    "\"\"\"\n",
    "\n",
    "q3 = \"\"\"\n",
    "SELECT paper.paper_id, paper.title, author.name\n",
    "FROM paper\n",
    "JOIN author\n",
    "ON paper.author_id = author.author_id\n",
    "WHERE author.author_id > 1;\n",
    "\"\"\""
   ]
  },
  {
   "cell_type": "code",
   "execution_count": 133,
   "metadata": {},
   "outputs": [
    {
     "data": {
      "text/plain": [
       "[(222, 'Paper B', 'Author B'), (333, 'Paper C', 'Author C')]"
      ]
     },
     "execution_count": 133,
     "metadata": {},
     "output_type": "execute_result"
    }
   ],
   "source": [
    "dbA.r_query(q3)"
   ]
  },
  {
   "cell_type": "code",
   "execution_count": 134,
   "metadata": {},
   "outputs": [
    {
     "data": {
      "text/html": [
       "<div>\n",
       "<style scoped>\n",
       "    .dataframe tbody tr th:only-of-type {\n",
       "        vertical-align: middle;\n",
       "    }\n",
       "\n",
       "    .dataframe tbody tr th {\n",
       "        vertical-align: top;\n",
       "    }\n",
       "\n",
       "    .dataframe thead th {\n",
       "        text-align: right;\n",
       "    }\n",
       "</style>\n",
       "<table border=\"1\" class=\"dataframe\">\n",
       "  <thead>\n",
       "    <tr style=\"text-align: right;\">\n",
       "      <th></th>\n",
       "      <th>Paper ID</th>\n",
       "      <th>Title</th>\n",
       "      <th>Author Name</th>\n",
       "    </tr>\n",
       "  </thead>\n",
       "  <tbody>\n",
       "    <tr>\n",
       "      <th>0</th>\n",
       "      <td>222</td>\n",
       "      <td>Paper B</td>\n",
       "      <td>Author B</td>\n",
       "    </tr>\n",
       "    <tr>\n",
       "      <th>1</th>\n",
       "      <td>333</td>\n",
       "      <td>Paper C</td>\n",
       "      <td>Author C</td>\n",
       "    </tr>\n",
       "  </tbody>\n",
       "</table>\n",
       "</div>"
      ],
      "text/plain": [
       "   Paper ID    Title Author Name\n",
       "0       222  Paper B    Author B\n",
       "1       333  Paper C    Author C"
      ]
     },
     "execution_count": 134,
     "metadata": {},
     "output_type": "execute_result"
    }
   ],
   "source": [
    "dbA.to_df(q3, [\"Paper ID\", \"Title\", \"Author Name\"])"
   ]
  },
  {
   "cell_type": "code",
   "execution_count": 135,
   "metadata": {},
   "outputs": [
    {
     "name": "stdout",
     "output_type": "stream",
     "text": [
      "Query executed successfully\n"
     ]
    }
   ],
   "source": [
    "q4 = \"\"\"\n",
    "UPDATE paper\n",
    "SET title = \"Butter Paper\"\n",
    "WHERE paper_id = 2;\n",
    "\"\"\"\n",
    "\n",
    "dbA.execute(q4)"
   ]
  },
  {
   "cell_type": "code",
   "execution_count": 136,
   "metadata": {},
   "outputs": [
    {
     "name": "stdout",
     "output_type": "stream",
     "text": [
      "Query executed successfully\n"
     ]
    }
   ],
   "source": [
    "q5 = \"\"\"\n",
    "DELETE FROM paper\n",
    "WHERE paper_id < 100;\n",
    "\n",
    "\"\"\"\n",
    "\n",
    "dbA.execute(q5)"
   ]
  },
  {
   "cell_type": "code",
   "execution_count": 140,
   "metadata": {},
   "outputs": [
    {
     "data": {
      "text/plain": [
       "[(333, 'Paper C', '3', '2023-03-01'),\n",
       " (222, 'Paper B', '2', '2023-02-01'),\n",
       " (111, 'Paper A', '1', '2023-01-01')]"
      ]
     },
     "execution_count": 140,
     "metadata": {},
     "output_type": "execute_result"
    }
   ],
   "source": [
    "dbA.r_query(q2)"
   ]
  }
 ],
 "metadata": {
  "kernelspec": {
   "display_name": "Python 3",
   "language": "python",
   "name": "python3"
  },
  "language_info": {
   "codemirror_mode": {
    "name": "ipython",
    "version": 3
   },
   "file_extension": ".py",
   "mimetype": "text/x-python",
   "name": "python",
   "nbconvert_exporter": "python",
   "pygments_lexer": "ipython3",
   "version": "3.11.4"
  }
 },
 "nbformat": 4,
 "nbformat_minor": 2
}
