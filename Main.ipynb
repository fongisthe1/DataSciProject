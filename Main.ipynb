{
 "cells": [
  {
   "cell_type": "code",
   "execution_count": 69,
   "metadata": {},
   "outputs": [],
   "source": [
    "import pandas as pd\n",
    "import faiss\n",
    "import requests\n",
    "import numpy as np\n",
    "import os"
   ]
  },
  {
   "cell_type": "markdown",
   "metadata": {},
   "source": [
    "Load Index"
   ]
  },
  {
   "cell_type": "code",
   "execution_count": 70,
   "metadata": {},
   "outputs": [
    {
     "name": "stdout",
     "output_type": "stream",
     "text": [
      "Index Created\n"
     ]
    }
   ],
   "source": [
    "if os.path.exists('index'):\n",
    "  index = faiss.read_index('index')\n",
    "  print(\"Index Loaded\") \n",
    "else:\n",
    "  dim = 3072\n",
    "  index = faiss.IndexFlatL2(dim)\n",
    "  print(\"Index Created\")"
   ]
  },
  {
   "cell_type": "markdown",
   "metadata": {},
   "source": [
    "Create text representation"
   ]
  },
  {
   "cell_type": "code",
   "execution_count": 71,
   "metadata": {},
   "outputs": [],
   "source": [
    "def text_rep(row):\n",
    "  text_rep = f\"\"\"Title: {row['Title']}\n",
    "Publication Date: {row['Publication Date']}\n",
    "Keywords: {row['Keywords']}\n",
    "Abstract: {row['Abstract']}\n",
    "Subject Areas: {row['Subject Areas']}\n",
    "\"\"\"\n",
    "  return text_rep"
   ]
  },
  {
   "cell_type": "code",
   "execution_count": 72,
   "metadata": {},
   "outputs": [],
   "source": [
    "datasets = ['Cleaned_2018_Papers.csv']\n",
    "df = pd.DataFrame()\n",
    "for dataset in datasets:\n",
    "  temp_df = pd.read_csv(dataset)\n",
    "  df = pd.concat([df, temp_df], ignore_index=True)\n",
    "\n",
    "df = df.head(100)\n",
    "\n",
    "df['text_representation'] = df.apply(text_rep, axis=1)"
   ]
  },
  {
   "cell_type": "code",
   "execution_count": 73,
   "metadata": {},
   "outputs": [
    {
     "data": {
      "text/plain": [
       "0    Title: Recent developments in bifunctional air...\n",
       "1    Title: The benefit of punishment sensitivity o...\n",
       "2    Title: Are endocrine disrupting compounds envi...\n",
       "3    Title: Probabilistic regular grammar inference...\n",
       "4    Title: Optimization of cinnamon oil nanoemulsi...\n",
       "Name: text_representation, dtype: object"
      ]
     },
     "execution_count": 73,
     "metadata": {},
     "output_type": "execute_result"
    }
   ],
   "source": [
    "df.head()['text_representation']"
   ]
  },
  {
   "cell_type": "markdown",
   "metadata": {},
   "source": [
    "Create and Store Embeddings"
   ]
  },
  {
   "cell_type": "code",
   "execution_count": 74,
   "metadata": {},
   "outputs": [],
   "source": [
    "X = np.empty((len(df['text_representation']), dim), dtype = 'float32')"
   ]
  },
  {
   "cell_type": "code",
   "execution_count": 75,
   "metadata": {},
   "outputs": [],
   "source": [
    "def embed(text_rep):\n",
    "  res = requests.post('http://localhost:11434/api/embeddings', \n",
    "                      json = {\n",
    "                        'model': 'llama3.2',\n",
    "                        'prompt': text_rep\n",
    "                      })\n",
    "  return np.array([res.json()['embedding']], dtype='float32')"
   ]
  },
  {
   "cell_type": "code",
   "execution_count": 76,
   "metadata": {},
   "outputs": [
    {
     "name": "stdout",
     "output_type": "stream",
     "text": [
      "0\n"
     ]
    }
   ],
   "source": [
    "for i, text_rep in enumerate(df['text_representation']):\n",
    "  if i%100 == 0:\n",
    "    print(i)\n",
    "  X[i] = embed(text_rep)\n",
    "  \n",
    "index.add(X)"
   ]
  },
  {
   "cell_type": "code",
   "execution_count": 77,
   "metadata": {},
   "outputs": [],
   "source": [
    "faiss.write_index(index, 'index')"
   ]
  },
  {
   "cell_type": "markdown",
   "metadata": {},
   "source": [
    "Testing"
   ]
  },
  {
   "cell_type": "code",
   "execution_count": 78,
   "metadata": {},
   "outputs": [
    {
     "name": "stdout",
     "output_type": "stream",
     "text": [
      "0    Title: Recent developments in bifunctional air...\n"
     ]
    }
   ],
   "source": [
    "print(df[df.Title.str.contains('bifunctional air electrodes ')]['text_representation'].to_string())"
   ]
  },
  {
   "cell_type": "code",
   "execution_count": 79,
   "metadata": {},
   "outputs": [],
   "source": [
    "favorite_paper = df.iloc[0]"
   ]
  },
  {
   "cell_type": "code",
   "execution_count": 130,
   "metadata": {},
   "outputs": [],
   "source": [
    "test = \"\"\"Title: Advances in bifunctional electrocatalysts for efficient unitized regenerative proton exchange membrane fuel cells\n",
    "Publication Date: 2021-08-10\n",
    "Keywords: Electrocatalysts, Bifunctional electrodes, Oxygen reduction reaction, Oxygen evolution reaction, PEM fuel cells, Hydrogen production, Energy conversion, Electrochemical performance, Catalyst design, Regenerative fuel cells\n",
    "Abstract: Unitized regenerative proton exchange membrane fuel cells (UR-PEMFCs) have shown promise as a sustainable energy solution for both energy storage and conversion. However, the performance of these systems is heavily dependent on the efficiency of the air electrodes, specifically the bifunctional electrocatalysts that mediate both the oxygen reduction reaction (ORR) and the oxygen evolution reaction (OER). This paper reviews recent developments in bifunctional catalysts for UR-PEMFCs, with a focus on the design and optimization of electrocatalyst materials that enhance both reactions' efficiency. The work highlights the use of non-precious metal catalysts, the role of hybrid materials, and the advances in electrode architectures aimed at improving long-term stability and reducing costs. Recent studies demonstrate that transition metal-based catalysts offer significant potential in improving the round-trip efficiency of UR-PEMFCs, with efficiencies exceeding 60% at moderate current densities.\n",
    "Subject Areas: Renewable Energy, Energy Conversion and Storage, Fuel Cell Technology, Materials Science, Electrochemistry, Environmental Sustainability\n",
    "\"\"\"\n",
    "test_authors = ['Jienkulsawad P.', 'Saebea D.', 'Patcharavorachot Y.', 'Kheawhom S.', 'Arpornwichanop A.']"
   ]
  },
  {
   "cell_type": "code",
   "execution_count": 81,
   "metadata": {},
   "outputs": [],
   "source": [
    "def faiss_search(index, query):\n",
    "  distances, indices = index.search(embed(query), 10)\n",
    "  return distances[0], indices[0] #We only have 1 query"
   ]
  },
  {
   "cell_type": "code",
   "execution_count": 82,
   "metadata": {},
   "outputs": [],
   "source": [
    "def count_authors_matches(list1,list2):\n",
    "  return sum([author in list1 for author in list2])"
   ]
  },
  {
   "cell_type": "code",
   "execution_count": 138,
   "metadata": {},
   "outputs": [],
   "source": [
    "def weighted_scores(indices, distances, query_authors, df):\n",
    "    results = []\n",
    "    for index, distance in zip(indices, distances):\n",
    "        candidate_paper = df.iloc[index]\n",
    "        authors = candidate_paper['Authors']\n",
    "        matches_amount = count_authors_matches(authors, query_authors)\n",
    "        similarity_score = (1 - distance/1000)\n",
    "        weighted_scores = similarity_score * (1.1 ** matches_amount)\n",
    "        \n",
    "        # Print values for debugging\n",
    "        print(f\"Index: {index}, Title: {candidate_paper['Title']}, Similarity: {similarity_score}, Weighted Score: {weighted_scores}, Matches: {matches_amount}\")\n",
    "        \n",
    "        results.append((index, candidate_paper['Title'], weighted_scores))\n",
    "    \n",
    "    sorted_results = sorted(results, key=lambda x: x[2], reverse=True)\n",
    "    return sorted_results\n"
   ]
  },
  {
   "cell_type": "code",
   "execution_count": 136,
   "metadata": {},
   "outputs": [],
   "source": [
    "def recommend(index, query, query_authors, df):\n",
    "  distances, indices = faiss_search(index, query)\n",
    "  best_matches = weighted_scores(indices, distances, query_authors, df)\n",
    "  best_indices = [x[0] for x in best_matches]\n",
    "  best_matches_df = df.iloc[best_indices]\n",
    "  for _,match in best_matches_df.iterrows():\n",
    "     print(f\"{match['text_representation']}Authors: {match['Authors']}\\n\")"
   ]
  },
  {
   "cell_type": "code",
   "execution_count": 139,
   "metadata": {},
   "outputs": [
    {
     "name": "stdout",
     "output_type": "stream",
     "text": [
      "Index: 0, Title: Recent developments in bifunctional air electrodes for unitized regenerative proton exchange membrane fuel cells – A review, Similarity: 0.3635723876953125, Weighted Score: 0.3635723876953125, Matches: 0\n",
      "Index: 33, Title: Analysis of a solid oxide fuel cell and a molten carbonate fuel cell integrated system with different configurations, Similarity: 0.30408050537109377, Weighted Score: 0.4897246947052004, Matches: 5\n",
      "Index: 91, Title: Physical quantity of residue electrostatic energy in flavin mononucleotide binding protein dimer, Similarity: 0.2720882568359375, Weighted Score: 0.2720882568359375, Matches: 0\n",
      "Index: 65, Title: Heterostructured d-Ti 3 C 2 /TiO 2/ g-C 3 N 4 Nanocomposites with Enhanced Visible-Light Photocatalytic Hydrogen Production Activity, Similarity: 0.19415771484375, Weighted Score: 0.19415771484375, Matches: 0\n",
      "Index: 83, Title: The low temperature selective oxidation of H2S to elemental sulfur on TiO2 supported V2O5 catalysts, Similarity: 0.16190283203125, Weighted Score: 0.16190283203125, Matches: 0\n",
      "Index: 19, Title: Novel organic/inorganic hybrid flower-like structure of selenium nanoparticles stabilized by pullulan derivatives, Similarity: 0.1544573364257813, Weighted Score: 0.1544573364257813, Matches: 0\n",
      "Index: 78, Title: Experimental investigation on mechanical properties of geosynthetic cementitious composite mat (GCCM), Similarity: 0.15155859375000003, Weighted Score: 0.15155859375000003, Matches: 0\n",
      "Index: 86, Title: Photocatalytic activity of TiO2 coated porous silica beads on degradation of cumene hydroperoxide, Similarity: 0.1491944580078125, Weighted Score: 0.1491944580078125, Matches: 0\n",
      "Index: 74, Title: Effect of Zr addition on the microstructure and tribological property of the anodization of Ti-6Al-4V alloy, Similarity: 0.1468092041015625, Weighted Score: 0.1468092041015625, Matches: 0\n",
      "Index: 71, Title: Bifunctional alanine dehydrogenase from the halotolerant cyanobacterium Aphanothece halophytica: characterization and molecular properties, Similarity: 0.1357527465820313, Weighted Score: 0.1357527465820313, Matches: 0\n",
      "Title: Analysis of a solid oxide fuel cell and a molten carbonate fuel cell integrated system with different configurations\n",
      "Publication Date: 2018-01-01\n",
      "Keywords: Carbon dioxide utilization, Integrated fuel cell systems, Integrated systems, Internal reforming, Operating condition, Operating parameters, Recirculations, System configurations, Design, Molten carbonate fuel cell, Recirculation, Solid oxide fuel cell, System configuration\n",
      "Abstract: A solid oxide fuel cell with internal reforming operation is run at partial fuel utilization; thus, the remaining fuel can be further used for producing additional power. In addition, the exhaust gas of a solid oxide fuel cell still contains carbon dioxide, which is the primary greenhouse gas, and identifying a way to utilize this carbon dioxide is important. Integrating the solid oxide fuel cell with the molten carbonate fuel cell is a potential solution for carbon dioxide utilization. In this study, the performance of the integrated fuel cell system is analyzed. The solid oxide fuel cell is the main power generator, and the molten carbonate fuel cell is regarded as a carbon dioxide concentrator that produces electricity as a by-product. Modeling of the solid oxide fuel cell and the molten carbonate fuel cell is based on one-dimensional mass balance, considering all cell voltage losses. Primary operating conditions of the integrated fuel cell system that affect the system efficiencies in terms of power generation and carbon dioxide utilization are studied, and the optimal operating parameters are identified based on these criteria. Various configurations of the integrated fuel cell system are proposed and compared to determine the suitable design of the integrated fuel cell system.\n",
      "Subject Areas: Renewable Energy, Sustainability and the Environment, Fuel Technology, Condensed Matter Physics, Energy Engineering and Power Technology\n",
      "Authors: Jienkulsawad P., Saebea D., Patcharavorachot Y., Kheawhom S., Arpornwichanop A.\n",
      "\n",
      "Title: Recent developments in bifunctional air electrodes for unitized regenerative proton exchange membrane fuel cells – A review\n",
      "Publication Date: 2018-11-15\n",
      "Keywords: Air electrodes, Design and Development, Efficiency enhancement, Optimization of operating conditions, Oxygen reduction and evolution reactions, PEM fuel cell, Performance improvements, Real-life applications, Bifunctional air electrode, Catalyst support, Electrocatalyst design, Unitized regenerative PEM fuel cell\n",
      "Abstract: Unitized regenerative proton exchange membrane fuel cell (UR-PEMFC) technology has progressed in the recent past and has started appearing towards few applications. However, the UR-PEMFC viability is limited by its lower round-trip efficiency mainly due to several reasons such as sluggish air electrode reactions, lower performance/stability, higher materials cost etc. In this context, many approaches are being implemented for efficiency enhancement including design and development of effective bifunctional air electrodes (oxygen reduction and evolution reactions) materials both for fuel cell and electrolyzer modes as well as for optimization of operating condition for performance stability in real life applications. This review focusses on the recent developments of air electrode active materials design/development for performance improvement in UR-PEMFC. Among all developed electrode materials, the catalysts with Pt- and Ir-based metals still provided the maximum round-trip efficiency of about 50% at 500 mA cm−2 in the unit cell.\n",
      "Subject Areas: Renewable Energy, Sustainability and the Environment, Fuel Technology, Condensed Matter Physics, Energy Engineering and Power Technology\n",
      "Authors: Hunsom M., Kaewsai D., Kannan A.M.\n",
      "\n",
      "Title: Physical quantity of residue electrostatic energy in flavin mononucleotide binding protein dimer\n",
      "Publication Date: 2018-02-01\n",
      "Keywords: Atomic coordinate, Electrostatic energies, Flavin mononucleotides, Interaction energies, Molecular dynamics simulations, Physical quantities, Protein stabilization, Protein structures, Amino Acids, Acidic, Amino Acids, Basic, Bacterial Proteins, Desulfovibrio vulgaris, Flavoproteins, Molecular Dynamics Simulation, Protein Multimerization, Static Electricity, Electrostatic energy, FBP, FMN, Molecular dynamics simulation, Protein stabilization\n",
      "Abstract: The electrostatic (ES) energy of each residue was for the first time quantitatively evaluated in a flavin mononucleotide binding protein (FBP). A residue electrostatic energy (RES) was obtained as the sum of the ES energies between atoms in each residue and all other atoms in the FBP dimer using atomic coordinates obtained by a molecular dynamics (MD) simulation. ES is one of the most important energies among the interaction energies in a protein. It is determined from the RES, the residues which mainly contribute to stabilize the structure of each subunit, and the binding energy between two subunits can be estimated. The RES of all residues in subunit A (Sub A) and subunit B (Sub B) were attractive forces, even though the residues contain net negative or positive charges. This reveals that the ES energies of any of the residues can contribute to stabilize the protein structure. The total binding ES energy over all residues among the subunits was distributed between −0.2 to −1.2 eV (mean = −0.67 eV) from the MD simulation time.\n",
      "Subject Areas: Structural Biology, Biochemistry, Organic Chemistry, Computational Mathematics\n",
      "Authors: Nunthaboot N., Nueangaudom A., Lugsanangarm K., Pianwanit S., Kokpol S., Tanaka F.\n",
      "\n",
      "Title: Heterostructured d-Ti 3 C 2 /TiO 2/ g-C 3 N 4 Nanocomposites with Enhanced Visible-Light Photocatalytic Hydrogen Production Activity\n",
      "Publication Date: 2018-12-20\n",
      "Keywords: Composite photocatalysts, Fast electron transfer, Graphitic carbon nitrides, Hydrogen evolution, Photocatalytic hydrogen, Photocatalytic hydrogen production, Photogenerated charge carriers, Separation efficiency, 2D materials, graphitic carbon nitride, heterostructured composites, hydrogen evolution, photocatalysis\n",
      "Abstract: The construction of a 2D–2D heterostructured composite is an efficient method to improve the photocatalytic hydrogen generation capability under visible light. In this work, simple heat treatment of a mixture of g-C 3 N 4 and delaminated Ti 3 C 2 was used to prepare a series of d-Ti 3 C 2 /TiO 2 /g-C 3 N 4 nanocomposites. The d-Ti 3 C 2 not only acted as the support layer and resource to glue the anatase TiO 2 particles and g-C 3 N 4 layers together but also served as the fast electron transfer channel to improve the photogenerated charge carriers’ separation efficiency. By tuning the g-C 3 N 4 /d-Ti 3 C 2 mass ratio, heating temperature and soaking time, the d-Ti 3 C 2 /TiO 2 /g-C 3 N 4 nanocomposite 4-1-350-1 achieved an excellent H 2 evolution rate of 1.62 mmol h −1 g −1 driven by a 300 W Xe lamp with a 420 nm cutoff filter. The heterostructured composite photocatalyst was stable even after 3 cycles, representing excellent potential for the practical application in solar energy conversion.\n",
      "Subject Areas: Environmental Chemistry, Chemical Engineering (all), Materials Science (all), Energy (all)\n",
      "Authors: Zhang M., Qin J., Rajendran S., Zhang X., Liu R.\n",
      "\n",
      "Title: The low temperature selective oxidation of H2S to elemental sulfur on TiO2 supported V2O5 catalysts\n",
      "Publication Date: 2018-02-01\n",
      "Keywords: Catalyst performance, Partially reduced V-Ti species, Redox capability, Selective oxidation, Selective oxidation of H2S, Strong interaction, Supported vanadium oxide catalyst, Vanadium oxides, Hydrogen sulfide, Partially reduced V-Ti species, Redox capability, Selective oxidation, Vanadium oxides\n",
      "Abstract: The selective oxidation of H2S to elemental sulfur at low temperature (130 °C) was investigated on various TiO2-supported vanadium oxide catalysts. The TiO2 supports were commercially available pure anatase TiO2 (dXRD 21 and 43 nm with specific surface area 63 and 10 m2/g, respectively), solvothermal-synthesized pure anatase TiO2 (dXRD 15 nm, 69 m2/g), P-25 TiO2 (mixed anatase/rutile phase, 46 m2/g), and rutile TiO2 (dXRD 40 nm, 6 m2/g). In order to obtain high catalytic activity of the V2O5/TiO2 catalysts, a combination of highly dispersed vanadium oxides and a strong interaction of V-Ti species were found to be necessary. As revealed by the XPS, Raman, and O2-TPD results, the interaction between active V component and TiO2 support was shown by the presence of partially reduced V-Ti species. Due to the strong interaction between V and TiO2 support, the active V component, which was not fully oxidized, led to more oxygen vacancies being formed and facilitated a rapid catalyst regeneration from V4+ to V5+ (re-oxidation). Hence, the capability of the catalysts for H2S removal was greatly enhanced. Among them, the V2O5 supported on anatase TiO2 with dXRD 21 nm exhibited the best catalyst performances using the feed molar ratio (O2/H2S) of 0.5.\n",
      "Subject Areas: Chemical Engineering (miscellaneous), Waste Management and Disposal, Pollution, Process Chemistry and Technology\n",
      "Authors: Pongthawornsakun B., Phatyenchuen S., Panpranot J., Praserthdam P.\n",
      "\n",
      "Title: Novel organic/inorganic hybrid flower-like structure of selenium nanoparticles stabilized by pullulan derivatives\n",
      "Publication Date: 2018-03-15\n",
      "Keywords: Drug delivery system, Flower-like structures, Formation mechanism, Hybrid flower, Hydrochloride solutions, Organic/Inorganic hybrids, Pullulans, Selenium nanoparticles, Cytotoxicity, Formation mechanism, Hybrid flower, Pullulan, Selenium nanoparticles\n",
      "Abstract: We proudly present the first organic/inorganic hybrid pullulan/SeNPs hybrid microflower material obtained using a simple and bio-inspired strategy. The chemical structures of pullulan, folic acid decorated cationic pullulan (FA-CP) were designed for stabilizing selenium nanoparticles (SeNPs). SeNPs stabilized by FA-CP hybrid microflowers were observed after the addition of a cysteine hydrochloride solution into the solution mixture of Na2SeO3 and FA-CP. We suggested that the concentrations of cysteine and FA-CP were the key factors for the formation of flower-like structure. In addition, the formation mechanism of the microflowers was tentatively identified as anisotropic hierarchical growth. The microflowers exhibited effective drug adsorption with the loading capacity of 142.2 mg g−1 for doxorubicin which was three times higher than that for the doxorubicin-loaded spherical SeNPs and showed more potent activity against cancer cells while showing less toxicity against normal cells. These data demonstrated that the microflower-like FA-CP/SeNPs structure could be a candidate anticancer drug template in drug delivery systems.\n",
      "Subject Areas: Organic Chemistry, Polymers and Plastics, Materials Chemistry\n",
      "Authors: Nonsuwan P., Puthong S., Palaga T., Muangsin N.\n",
      "\n",
      "Title: Experimental investigation on mechanical properties of geosynthetic cementitious composite mat (GCCM)\n",
      "Publication Date: 2018-03-30\n",
      "Keywords: Cementitious composites, Experimental investigations, Frictional resistance, Laboratory test, Monotonic loading, Physical and mechanical properties, Puncture strength, Reinforced structures, Flexural strength, Geosynthetic cementitious composite mat, Laboratory test, Puncture strength, Tensile strength\n",
      "Abstract: In this paper, the behaviour of geosynthetic cementitious composite mat (GCCM) made of geotextiles and cement powder was investigated. The aims of the development of the GCCM are focused on geotechnical engineering applications. Experimental study includes physical and mechanical properties investigation of GCCM under installation and loading conditions. Testing of tension and flexure by monotonic loading showed that the GCCM can be used in soil reinforced structure. Additionally, puncture and frictional resistances of the GCCM are also important properties for slope protection. In conclusion, enhancing geosynthetic with cement paste can provide both strength and durability to be used for slope stabilisation. The key properties of GCCM reported in this paper can be used as design parameters of GCCM for geotechnical engineering applications.\n",
      "Subject Areas: Civil and Structural Engineering, Building and Construction, Materials Science (all)\n",
      "Authors: Jongvivatsakul P., Ramdit T., Ngo T.P., Likitlersuang S.\n",
      "\n",
      "Title: Photocatalytic activity of TiO2 coated porous silica beads on degradation of cumene hydroperoxide\n",
      "Publication Date: 2018-11-01\n",
      "Keywords: Contaminated wastewater, Cumene hydroperoxide, Granulation techniques, Photocatalytic activities, Photocatalytic materials, TiO2 P-25, Titanium dioxides (TiO2), UV-light irradiation, Cumene hydroperoxide degradation, recyclable photocatalytic material, TiO2 P-25\n",
      "Abstract: Recently, due to an increasing global concern on environmental safety, titanium dioxide (TiO2) photocatalyst has been extensively researched for use as air and water pollution treatments. This study was initiative for producing an economically viable TiO2 photocatalyst material with recyclability for degradation of CHP contaminated wastewater. TiO2 P-25, a well-known photocatalyst, with a proper amount (15% w/w of CAC) was coated on porous silica beads (ECOLITE®) by granulation technique, using high calcium aluminate cement (CAC) as a binder (EC+CAC+15% w/w TiO2 P-25). The experiments revealed that high concentration CHP solutions were completely degraded by EC+CAC+15% w/w TiO2 P-25 within 5 and 7 hours. The recyclability of EC+CAC+15% w/w TiO2 P-25 was evaluated by investigation the degradation activity of freshly prepared CHP solution under UV light irradiation using the repetitive photocatalyst beads for 6 runs. HPLC analyses indicated that the CHP degradation was completed in the 1st run and down to over 90% in the 6th run. Hence, EC+CAC+15% w/w TiO2 P-25 showed a long durability and good recyclability for CHP degradation, resulted from the good adherence of hydration product layer of CAC for TiO2 particles as well as its large surface area that offered good adsorption for CHP.\n",
      "Subject Areas: Ceramics and Composites, Condensed Matter Physics, Marketing, Materials Chemistry\n",
      "Authors: Pinato K., Suttiponparnit K., Panpa W., Jinawath S., Kashima D.\n",
      "\n",
      "Title: Effect of Zr addition on the microstructure and tribological property of the anodization of Ti-6Al-4V alloy\n",
      "Publication Date: 2018-12-25\n",
      "Keywords: Anodizations, Energy dispersive X ray spectroscopy, Morphology and composition, Oxide layer, Ti-6Al-4V alloy, Tribological properties, Zr addition, Zr alloys, Anodization, Ti–Zr alloy, Wear resistance\n",
      "Abstract: The oxide layers of regular nanotubes structure were obtained on the surface of Ti–Zr alloys (Ti-6Al-4V-χZr (χ = 0, 20, 30, 40, 51)) by anodization. X-ray photoelectron spectroscopy (XPS), scanning electron microscopy (SEM), energy dispersive X-ray spectroscopy(EDX) were used to characterize the morphology and composition of the nanotubes oxidized layers. The tribological property of the oxidized layers was evaluated using ball-on-disc wear tester. Neat microstructures can be obtained on all samples. With the addition of zirconium to the Ti-6Al-4V, the anodic oxidation is relatively intense, and the wear resistance of Ti-6Al-4V can be enhanced.\n",
      "Subject Areas: Chemistry (all), Condensed Matter Physics, Surfaces and Interfaces, Surfaces, Coatings and Films, Materials Chemistry\n",
      "Authors: Zhang S., Qin J., Yang C., Zhang X., Liu R.\n",
      "\n",
      "Title: Bifunctional alanine dehydrogenase from the halotolerant cyanobacterium Aphanothece halophytica: characterization and molecular properties\n",
      "Publication Date: 2018-07-01\n",
      "Keywords: Alanine, Alanine Dehydrogenase, Bacterial Proteins, Cyanobacteria, Enzyme Induction, Escherichia coli, Gene Expression Regulation, Bacterial, Glyoxylates, Hydrogen-Ion Concentration, Kinetics, Pyruvic Acid, Salt-Tolerance, Substrate Specificity, Alanine dehydrogenase, Aphanothece halophytica, Cyanobacteria\n",
      "Abstract: A link between carbon and nitrogen metabolism is important for serving as metabolic ancillary reactions. Here, we identified and characterized the alanine dehydrogenase gene in Aphanothece halophytica (ApalaDH) that is involved in alanine assimilation/dissimilation. Functional analysis revealed that ApalaDH encodes a bifunctional protein catalyzing the reversible reaction of pyruvate to l-alanine via its pyruvate reductive aminase (PvRA) activity, the reaction of l-alanine to pyruvate via its alanine oxidative dehydrogenase activity, and the non-reversible reaction of glyoxylate to glycine via its glyoxylate reductive aminase (GxRA) activity. Kinetic analysis showed the lowest affinity for pyruvate followed by l-alanine and glyoxylate with a Km of 0.22 ± 0.02, 0.72 ± 0.04, and 1.91 ± 0.43 mM, respectively. ApalaDH expression was upregulated by salt. Only PvRA and GxRA activities were detected in vivo and both activities increased about 1.2- and 2.7-fold upon salt stress. These features implicate that the assimilatory/dissimilatory roles of ApAlaDH are not only selective for l-alanine and pyruvate, but also, upon salt stress, can catabolize glyoxylate to generate glycine.\n",
      "Subject Areas: Microbiology, Biochemistry, Molecular Biology, Genetics\n",
      "Authors: Phogosee S., Hibino T., Kageyama H., Waditee-Sirisattha R.\n",
      "\n"
     ]
    }
   ],
   "source": [
    "best_matches = recommend(index, test, test_authors, df)"
   ]
  }
 ],
 "metadata": {
  "kernelspec": {
   "display_name": "Python 3",
   "language": "python",
   "name": "python3"
  },
  "language_info": {
   "codemirror_mode": {
    "name": "ipython",
    "version": 3
   },
   "file_extension": ".py",
   "mimetype": "text/x-python",
   "name": "python",
   "nbconvert_exporter": "python",
   "pygments_lexer": "ipython3",
   "version": "3.12.7"
  }
 },
 "nbformat": 4,
 "nbformat_minor": 2
}
