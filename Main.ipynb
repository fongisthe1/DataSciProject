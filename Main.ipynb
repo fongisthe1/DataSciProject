{
 "cells": [
  {
   "cell_type": "code",
   "execution_count": 2,
   "metadata": {},
   "outputs": [],
   "source": [
    "import pandas as pd\n",
    "import faiss\n",
    "import requests\n",
    "import numpy as np\n",
    "import os"
   ]
  },
  {
   "cell_type": "markdown",
   "metadata": {},
   "source": [
    "Load Index"
   ]
  },
  {
   "cell_type": "code",
   "execution_count": 3,
   "metadata": {},
   "outputs": [
    {
     "name": "stdout",
     "output_type": "stream",
     "text": [
      "Index Loaded\n"
     ]
    }
   ],
   "source": [
    "if os.path.exists('index'):\n",
    "  index = faiss.read_index('index')\n",
    "  print(\"Index Loaded\") \n",
    "else:\n",
    "  dim = 3072\n",
    "  index = faiss.IndexFlatL2(dim)\n",
    "  print(\"Index Created\")"
   ]
  },
  {
   "cell_type": "markdown",
   "metadata": {},
   "source": [
    "Create text representation"
   ]
  },
  {
   "cell_type": "code",
   "execution_count": 17,
   "metadata": {},
   "outputs": [],
   "source": [
    "def text_rep(row):\n",
    "  text_rep = f\"\"\"Title: {row['Title']}\n",
    "Publication Date: {row['Publication Date']}\n",
    "Keywords: {row['Keywords']}\n",
    "Abstract: {row['Abstract']}\n",
    "Subject Areas: {row['Subject Areas']}\n",
    "\"\"\"\n",
    "  return text_rep"
   ]
  },
  {
   "cell_type": "code",
   "execution_count": 18,
   "metadata": {},
   "outputs": [],
   "source": [
    "datasets = ['./Database-files/2018.csv', './Database-files/2019.csv', './Database-files/2020.csv', './Database-files/2021.csv', './Database-files/2022.csv', './Database-files/2023.csv', './Database-files/final5_arxiv_articles.csv']\n",
    "df = pd.DataFrame()\n",
    "for dataset in datasets:\n",
    "  temp_df = pd.read_csv(dataset)\n",
    "  df = pd.concat([df, temp_df], ignore_index=True)\n",
    "\n",
    "df['text_representation'] = df.apply(text_rep, axis=1)"
   ]
  },
  {
   "cell_type": "code",
   "execution_count": 19,
   "metadata": {},
   "outputs": [
    {
     "data": {
      "text/plain": [
       "0    Title: Recent developments in bifunctional air...\n",
       "1    Title: The benefit of punishment sensitivity o...\n",
       "2    Title: Are endocrine disrupting compounds envi...\n",
       "3    Title: Probabilistic regular grammar inference...\n",
       "4    Title: Optimization of cinnamon oil nanoemulsi...\n",
       "Name: text_representation, dtype: object"
      ]
     },
     "execution_count": 19,
     "metadata": {},
     "output_type": "execute_result"
    }
   ],
   "source": [
    "df.head()['text_representation']"
   ]
  },
  {
   "cell_type": "code",
   "execution_count": 34,
   "metadata": {},
   "outputs": [
    {
     "name": "stdout",
     "output_type": "stream",
     "text": [
      "17438\n"
     ]
    }
   ],
   "source": [
    "print(len(df))"
   ]
  },
  {
   "cell_type": "markdown",
   "metadata": {},
   "source": [
    "Create and Store Embeddings"
   ]
  },
  {
   "cell_type": "code",
   "execution_count": 14,
   "metadata": {},
   "outputs": [
    {
     "ename": "KeyError",
     "evalue": "'text_representation'",
     "output_type": "error",
     "traceback": [
      "\u001b[1;31m---------------------------------------------------------------------------\u001b[0m",
      "\u001b[1;31mKeyError\u001b[0m                                  Traceback (most recent call last)",
      "File \u001b[1;32mc:\\Users\\ASUS\\AppData\\Local\\Programs\\Python\\Python312\\Lib\\site-packages\\pandas\\core\\indexes\\base.py:3805\u001b[0m, in \u001b[0;36mIndex.get_loc\u001b[1;34m(self, key)\u001b[0m\n\u001b[0;32m   3804\u001b[0m \u001b[38;5;28;01mtry\u001b[39;00m:\n\u001b[1;32m-> 3805\u001b[0m     \u001b[38;5;28;01mreturn\u001b[39;00m \u001b[38;5;28;43mself\u001b[39;49m\u001b[38;5;241;43m.\u001b[39;49m\u001b[43m_engine\u001b[49m\u001b[38;5;241;43m.\u001b[39;49m\u001b[43mget_loc\u001b[49m\u001b[43m(\u001b[49m\u001b[43mcasted_key\u001b[49m\u001b[43m)\u001b[49m\n\u001b[0;32m   3806\u001b[0m \u001b[38;5;28;01mexcept\u001b[39;00m \u001b[38;5;167;01mKeyError\u001b[39;00m \u001b[38;5;28;01mas\u001b[39;00m err:\n",
      "File \u001b[1;32mindex.pyx:167\u001b[0m, in \u001b[0;36mpandas._libs.index.IndexEngine.get_loc\u001b[1;34m()\u001b[0m\n",
      "File \u001b[1;32mindex.pyx:196\u001b[0m, in \u001b[0;36mpandas._libs.index.IndexEngine.get_loc\u001b[1;34m()\u001b[0m\n",
      "File \u001b[1;32mpandas\\\\_libs\\\\hashtable_class_helper.pxi:7081\u001b[0m, in \u001b[0;36mpandas._libs.hashtable.PyObjectHashTable.get_item\u001b[1;34m()\u001b[0m\n",
      "File \u001b[1;32mpandas\\\\_libs\\\\hashtable_class_helper.pxi:7089\u001b[0m, in \u001b[0;36mpandas._libs.hashtable.PyObjectHashTable.get_item\u001b[1;34m()\u001b[0m\n",
      "\u001b[1;31mKeyError\u001b[0m: 'text_representation'",
      "\nThe above exception was the direct cause of the following exception:\n",
      "\u001b[1;31mKeyError\u001b[0m                                  Traceback (most recent call last)",
      "Cell \u001b[1;32mIn[14], line 1\u001b[0m\n\u001b[1;32m----> 1\u001b[0m X \u001b[38;5;241m=\u001b[39m np\u001b[38;5;241m.\u001b[39mempty((\u001b[38;5;28mlen\u001b[39m(\u001b[43mdf\u001b[49m\u001b[43m[\u001b[49m\u001b[38;5;124;43m'\u001b[39;49m\u001b[38;5;124;43mtext_representation\u001b[39;49m\u001b[38;5;124;43m'\u001b[39;49m\u001b[43m]\u001b[49m), dim), dtype \u001b[38;5;241m=\u001b[39m \u001b[38;5;124m'\u001b[39m\u001b[38;5;124mfloat32\u001b[39m\u001b[38;5;124m'\u001b[39m)\n",
      "File \u001b[1;32mc:\\Users\\ASUS\\AppData\\Local\\Programs\\Python\\Python312\\Lib\\site-packages\\pandas\\core\\frame.py:4102\u001b[0m, in \u001b[0;36mDataFrame.__getitem__\u001b[1;34m(self, key)\u001b[0m\n\u001b[0;32m   4100\u001b[0m \u001b[38;5;28;01mif\u001b[39;00m \u001b[38;5;28mself\u001b[39m\u001b[38;5;241m.\u001b[39mcolumns\u001b[38;5;241m.\u001b[39mnlevels \u001b[38;5;241m>\u001b[39m \u001b[38;5;241m1\u001b[39m:\n\u001b[0;32m   4101\u001b[0m     \u001b[38;5;28;01mreturn\u001b[39;00m \u001b[38;5;28mself\u001b[39m\u001b[38;5;241m.\u001b[39m_getitem_multilevel(key)\n\u001b[1;32m-> 4102\u001b[0m indexer \u001b[38;5;241m=\u001b[39m \u001b[38;5;28;43mself\u001b[39;49m\u001b[38;5;241;43m.\u001b[39;49m\u001b[43mcolumns\u001b[49m\u001b[38;5;241;43m.\u001b[39;49m\u001b[43mget_loc\u001b[49m\u001b[43m(\u001b[49m\u001b[43mkey\u001b[49m\u001b[43m)\u001b[49m\n\u001b[0;32m   4103\u001b[0m \u001b[38;5;28;01mif\u001b[39;00m is_integer(indexer):\n\u001b[0;32m   4104\u001b[0m     indexer \u001b[38;5;241m=\u001b[39m [indexer]\n",
      "File \u001b[1;32mc:\\Users\\ASUS\\AppData\\Local\\Programs\\Python\\Python312\\Lib\\site-packages\\pandas\\core\\indexes\\base.py:3812\u001b[0m, in \u001b[0;36mIndex.get_loc\u001b[1;34m(self, key)\u001b[0m\n\u001b[0;32m   3807\u001b[0m     \u001b[38;5;28;01mif\u001b[39;00m \u001b[38;5;28misinstance\u001b[39m(casted_key, \u001b[38;5;28mslice\u001b[39m) \u001b[38;5;129;01mor\u001b[39;00m (\n\u001b[0;32m   3808\u001b[0m         \u001b[38;5;28misinstance\u001b[39m(casted_key, abc\u001b[38;5;241m.\u001b[39mIterable)\n\u001b[0;32m   3809\u001b[0m         \u001b[38;5;129;01mand\u001b[39;00m \u001b[38;5;28many\u001b[39m(\u001b[38;5;28misinstance\u001b[39m(x, \u001b[38;5;28mslice\u001b[39m) \u001b[38;5;28;01mfor\u001b[39;00m x \u001b[38;5;129;01min\u001b[39;00m casted_key)\n\u001b[0;32m   3810\u001b[0m     ):\n\u001b[0;32m   3811\u001b[0m         \u001b[38;5;28;01mraise\u001b[39;00m InvalidIndexError(key)\n\u001b[1;32m-> 3812\u001b[0m     \u001b[38;5;28;01mraise\u001b[39;00m \u001b[38;5;167;01mKeyError\u001b[39;00m(key) \u001b[38;5;28;01mfrom\u001b[39;00m \u001b[38;5;21;01merr\u001b[39;00m\n\u001b[0;32m   3813\u001b[0m \u001b[38;5;28;01mexcept\u001b[39;00m \u001b[38;5;167;01mTypeError\u001b[39;00m:\n\u001b[0;32m   3814\u001b[0m     \u001b[38;5;66;03m# If we have a listlike key, _check_indexing_error will raise\u001b[39;00m\n\u001b[0;32m   3815\u001b[0m     \u001b[38;5;66;03m#  InvalidIndexError. Otherwise we fall through and re-raise\u001b[39;00m\n\u001b[0;32m   3816\u001b[0m     \u001b[38;5;66;03m#  the TypeError.\u001b[39;00m\n\u001b[0;32m   3817\u001b[0m     \u001b[38;5;28mself\u001b[39m\u001b[38;5;241m.\u001b[39m_check_indexing_error(key)\n",
      "\u001b[1;31mKeyError\u001b[0m: 'text_representation'"
     ]
    }
   ],
   "source": [
    "X = np.empty((len(df['text_representation']), dim), dtype = 'float32')"
   ]
  },
  {
   "cell_type": "code",
   "execution_count": 12,
   "metadata": {},
   "outputs": [],
   "source": [
    "def embed(text_rep):\n",
    "  res = requests.post('http://localhost:11434/api/embeddings', \n",
    "                      json = {\n",
    "                        'model': 'llama3.2',\n",
    "                        'prompt': text_rep\n",
    "                      })\n",
    "  return np.array([res.json()['embedding']], dtype='float32')"
   ]
  },
  {
   "cell_type": "code",
   "execution_count": null,
   "metadata": {},
   "outputs": [],
   "source": [
    "import requests\n",
    "\n",
    "def query_ollama(prompt):\n",
    "    response = requests.post(\n",
    "        \"http://localhost:11434/api/completions\",\n",
    "        json={\"model\": \"llama3.2\", \"prompt\": prompt}\n",
    "    )\n",
    "    response.raise_for_status()  # Ensure no HTTP errors\n",
    "    return response.json()\n",
    "\n",
    "print(query_ollama(\"Hello, how are you?\"))"
   ]
  },
  {
   "cell_type": "code",
   "execution_count": 57,
   "metadata": {},
   "outputs": [
    {
     "name": "stdout",
     "output_type": "stream",
     "text": [
      "0\n"
     ]
    },
    {
     "ename": "KeyError",
     "evalue": "'embedding'",
     "output_type": "error",
     "traceback": [
      "\u001b[1;31m---------------------------------------------------------------------------\u001b[0m",
      "\u001b[1;31mKeyError\u001b[0m                                  Traceback (most recent call last)",
      "Cell \u001b[1;32mIn[57], line 4\u001b[0m\n\u001b[0;32m      2\u001b[0m   \u001b[38;5;28;01mif\u001b[39;00m i\u001b[38;5;241m%\u001b[39m\u001b[38;5;241m100\u001b[39m \u001b[38;5;241m==\u001b[39m \u001b[38;5;241m0\u001b[39m:\n\u001b[0;32m      3\u001b[0m     \u001b[38;5;28mprint\u001b[39m(i)\n\u001b[1;32m----> 4\u001b[0m   X[i] \u001b[38;5;241m=\u001b[39m \u001b[43membed\u001b[49m\u001b[43m(\u001b[49m\u001b[43mtext_rep\u001b[49m\u001b[43m)\u001b[49m\n\u001b[0;32m      6\u001b[0m index\u001b[38;5;241m.\u001b[39madd(X)\n",
      "Cell \u001b[1;32mIn[56], line 7\u001b[0m, in \u001b[0;36membed\u001b[1;34m(text_rep)\u001b[0m\n\u001b[0;32m      1\u001b[0m \u001b[38;5;28;01mdef\u001b[39;00m \u001b[38;5;21membed\u001b[39m(text_rep):\n\u001b[0;32m      2\u001b[0m   res \u001b[38;5;241m=\u001b[39m requests\u001b[38;5;241m.\u001b[39mpost(\u001b[38;5;124m'\u001b[39m\u001b[38;5;124mhttp://localhost:11434/api/embeddings\u001b[39m\u001b[38;5;124m'\u001b[39m, \n\u001b[0;32m      3\u001b[0m                       json \u001b[38;5;241m=\u001b[39m {\n\u001b[0;32m      4\u001b[0m                         \u001b[38;5;124m'\u001b[39m\u001b[38;5;124mmodel\u001b[39m\u001b[38;5;124m'\u001b[39m: \u001b[38;5;124m'\u001b[39m\u001b[38;5;124mllama3.2\u001b[39m\u001b[38;5;124m'\u001b[39m,\n\u001b[0;32m      5\u001b[0m                         \u001b[38;5;124m'\u001b[39m\u001b[38;5;124mprompt\u001b[39m\u001b[38;5;124m'\u001b[39m: text_rep\n\u001b[0;32m      6\u001b[0m                       })\n\u001b[1;32m----> 7\u001b[0m   \u001b[38;5;28;01mreturn\u001b[39;00m np\u001b[38;5;241m.\u001b[39marray([\u001b[43mres\u001b[49m\u001b[38;5;241;43m.\u001b[39;49m\u001b[43mjson\u001b[49m\u001b[43m(\u001b[49m\u001b[43m)\u001b[49m\u001b[43m[\u001b[49m\u001b[38;5;124;43m'\u001b[39;49m\u001b[38;5;124;43membedding\u001b[39;49m\u001b[38;5;124;43m'\u001b[39;49m\u001b[43m]\u001b[49m], dtype\u001b[38;5;241m=\u001b[39m\u001b[38;5;124m'\u001b[39m\u001b[38;5;124mfloat32\u001b[39m\u001b[38;5;124m'\u001b[39m)\n",
      "\u001b[1;31mKeyError\u001b[0m: 'embedding'"
     ]
    }
   ],
   "source": [
    "for i, text_rep in enumerate(df['text_representation']):\n",
    "  if i%100 == 0:\n",
    "    print(i)\n",
    "  X[i] = embed(text_rep)\n",
    "  \n",
    "index.add(X)"
   ]
  },
  {
   "cell_type": "code",
   "execution_count": 53,
   "metadata": {},
   "outputs": [],
   "source": [
    "faiss.write_index(index, 'index')"
   ]
  },
  {
   "cell_type": "markdown",
   "metadata": {},
   "source": [
    "Testing"
   ]
  },
  {
   "cell_type": "code",
   "execution_count": 39,
   "metadata": {},
   "outputs": [
    {
     "name": "stdout",
     "output_type": "stream",
     "text": [
      "0    Title: Recent developments in bifunctional air...\n"
     ]
    }
   ],
   "source": [
    "print(df[df.Title.str.contains('bifunctional air electrodes ')]['text_representation'].to_string())"
   ]
  },
  {
   "cell_type": "code",
   "execution_count": 40,
   "metadata": {},
   "outputs": [],
   "source": [
    "favorite_paper = df.iloc[0]"
   ]
  },
  {
   "cell_type": "code",
   "execution_count": 10,
   "metadata": {},
   "outputs": [],
   "source": [
    "test = \"\"\"Title: Advances in bifunctional electrocatalysts for efficient unitized regenerative proton exchange membrane fuel cells\n",
    "Publication Date: 2021-08-10\n",
    "Keywords: Electrocatalysts, Bifunctional electrodes, Oxygen reduction reaction, Oxygen evolution reaction, PEM fuel cells, Hydrogen production, Energy conversion, Electrochemical performance, Catalyst design, Regenerative fuel cells\n",
    "Abstract: Unitized regenerative proton exchange membrane fuel cells (UR-PEMFCs) have shown promise as a sustainable energy solution for both energy storage and conversion. However, the performance of these systems is heavily dependent on the efficiency of the air electrodes, specifically the bifunctional electrocatalysts that mediate both the oxygen reduction reaction (ORR) and the oxygen evolution reaction (OER). This paper reviews recent developments in bifunctional catalysts for UR-PEMFCs, with a focus on the design and optimization of electrocatalyst materials that enhance both reactions' efficiency. The work highlights the use of non-precious metal catalysts, the role of hybrid materials, and the advances in electrode architectures aimed at improving long-term stability and reducing costs. Recent studies demonstrate that transition metal-based catalysts offer significant potential in improving the round-trip efficiency of UR-PEMFCs, with efficiencies exceeding 60% at moderate current densities.\n",
    "Subject Areas: Renewable Energy, Energy Conversion and Storage, Fuel Cell Technology, Materials Science, Electrochemistry, Environmental Sustainability\n",
    "\"\"\"\n",
    "test_authors = ['Jienkulsawad P.', 'Saebea D.', 'Patcharavorachot Y.', 'Kheawhom S.', 'Arpornwichanop A.']"
   ]
  },
  {
   "cell_type": "code",
   "execution_count": 5,
   "metadata": {},
   "outputs": [],
   "source": [
    "def faiss_search(index, query):\n",
    "  distances, indices = index.search(embed(query), 10)\n",
    "  return distances[0], indices[0] #We only have 1 query"
   ]
  },
  {
   "cell_type": "code",
   "execution_count": 6,
   "metadata": {},
   "outputs": [],
   "source": [
    "def count_authors_matches(list1,list2):\n",
    "  return sum([author in list1 for author in list2])"
   ]
  },
  {
   "cell_type": "code",
   "execution_count": 7,
   "metadata": {},
   "outputs": [],
   "source": [
    "def weighted_scores(indices, distances, query_authors, df):\n",
    "    results = []\n",
    "    for index, distance in zip(indices, distances):\n",
    "        candidate_paper = df.iloc[index]\n",
    "        authors = candidate_paper['Authors']\n",
    "        matches_amount = count_authors_matches(authors, query_authors)\n",
    "        similarity_score = (1 - distance/1000)\n",
    "        weighted_scores = similarity_score * (1.1 ** matches_amount)\n",
    "        \n",
    "        results.append((index, candidate_paper['Title'], weighted_scores))\n",
    "    \n",
    "    sorted_results = sorted(results, key=lambda x: x[2], reverse=True)\n",
    "    return sorted_results\n"
   ]
  },
  {
   "cell_type": "code",
   "execution_count": 8,
   "metadata": {},
   "outputs": [],
   "source": [
    "def recommend(index, query, query_authors, df):\n",
    "  distances, indices = faiss_search(index, query)\n",
    "  best_matches = weighted_scores(indices, distances, query_authors, df)\n",
    "  best_indices = [x[0] for x in best_matches]\n",
    "  best_matches_df = df.iloc[best_indices]\n",
    "  for _,match in best_matches_df.iterrows():\n",
    "     print(f\"{match['text_representation']}Authors: {match['Authors']}\\n\")"
   ]
  },
  {
   "cell_type": "code",
   "execution_count": 20,
   "metadata": {},
   "outputs": [
    {
     "name": "stdout",
     "output_type": "stream",
     "text": [
      "Title: A short proof of Seymour's 6-flow theorem\n",
      "Publication Date: 7/6/2023\n",
      "Keywords: nan\n",
      "Abstract: We give a compact variation of Seymour's proof that every $2$-edge-connected\n",
      "graph has a nowhere-zero $\\mathbb{Z}_2 \\times \\mathbb{Z}_3$-flow.\n",
      "Subject Areas: Combinatorics, Mathematics\n",
      "Authors: Matt DeVos, Kathryn Nurse\n",
      "\n",
      "Title: A short proof of Seymour's 6-flow theorem\n",
      "Publication Date: 7/6/2023\n",
      "Keywords: nan\n",
      "Abstract: We give a compact variation of Seymour's proof that every $2$-edge-connected\n",
      "graph has a nowhere-zero $\\mathbb{Z}_2 \\times \\mathbb{Z}_3$-flow.\n",
      "Subject Areas: Combinatorics, Mathematics\n",
      "Authors: Matt DeVos, Kathryn Nurse\n",
      "\n",
      "Title: A short proof of Seymour's 6-flow theorem\n",
      "Publication Date: 7/6/2023\n",
      "Keywords: nan\n",
      "Abstract: We give a compact variation of Seymour's proof that every $2$-edge-connected\n",
      "graph has a nowhere-zero $\\mathbb{Z}_2 \\times \\mathbb{Z}_3$-flow.\n",
      "Subject Areas: Combinatorics, Mathematics\n",
      "Authors: Matt DeVos, Kathryn Nurse\n",
      "\n",
      "Title: A short proof of Seymour's 6-flow theorem\n",
      "Publication Date: 7/6/2023\n",
      "Keywords: nan\n",
      "Abstract: We give a compact variation of Seymour's proof that every $2$-edge-connected\n",
      "graph has a nowhere-zero $\\mathbb{Z}_2 \\times \\mathbb{Z}_3$-flow.\n",
      "Subject Areas: Combinatorics, Mathematics\n",
      "Authors: Matt DeVos, Kathryn Nurse\n",
      "\n",
      "Title: A short proof of Seymour's 6-flow theorem\n",
      "Publication Date: 7/6/2023\n",
      "Keywords: nan\n",
      "Abstract: We give a compact variation of Seymour's proof that every $2$-edge-connected\n",
      "graph has a nowhere-zero $\\mathbb{Z}_2 \\times \\mathbb{Z}_3$-flow.\n",
      "Subject Areas: Combinatorics, Mathematics\n",
      "Authors: Matt DeVos, Kathryn Nurse\n",
      "\n",
      "Title: A short proof of Seymour's 6-flow theorem\n",
      "Publication Date: 7/6/2023\n",
      "Keywords: nan\n",
      "Abstract: We give a compact variation of Seymour's proof that every $2$-edge-connected\n",
      "graph has a nowhere-zero $\\mathbb{Z}_2 \\times \\mathbb{Z}_3$-flow.\n",
      "Subject Areas: Combinatorics, Mathematics\n",
      "Authors: Matt DeVos, Kathryn Nurse\n",
      "\n",
      "Title: A short proof of Seymour's 6-flow theorem\n",
      "Publication Date: 7/6/2023\n",
      "Keywords: nan\n",
      "Abstract: We give a compact variation of Seymour's proof that every $2$-edge-connected\n",
      "graph has a nowhere-zero $\\mathbb{Z}_2 \\times \\mathbb{Z}_3$-flow.\n",
      "Subject Areas: Combinatorics, Mathematics\n",
      "Authors: Matt DeVos, Kathryn Nurse\n",
      "\n",
      "Title: A short proof of Seymour's 6-flow theorem\n",
      "Publication Date: 7/6/2023\n",
      "Keywords: nan\n",
      "Abstract: We give a compact variation of Seymour's proof that every $2$-edge-connected\n",
      "graph has a nowhere-zero $\\mathbb{Z}_2 \\times \\mathbb{Z}_3$-flow.\n",
      "Subject Areas: Combinatorics, Mathematics\n",
      "Authors: Matt DeVos, Kathryn Nurse\n",
      "\n",
      "Title: A short proof of Seymour's 6-flow theorem\n",
      "Publication Date: 7/6/2023\n",
      "Keywords: nan\n",
      "Abstract: We give a compact variation of Seymour's proof that every $2$-edge-connected\n",
      "graph has a nowhere-zero $\\mathbb{Z}_2 \\times \\mathbb{Z}_3$-flow.\n",
      "Subject Areas: Combinatorics, Mathematics\n",
      "Authors: Matt DeVos, Kathryn Nurse\n",
      "\n",
      "Title: A short proof of Seymour's 6-flow theorem\n",
      "Publication Date: 7/6/2023\n",
      "Keywords: nan\n",
      "Abstract: We give a compact variation of Seymour's proof that every $2$-edge-connected\n",
      "graph has a nowhere-zero $\\mathbb{Z}_2 \\times \\mathbb{Z}_3$-flow.\n",
      "Subject Areas: Combinatorics, Mathematics\n",
      "Authors: Matt DeVos, Kathryn Nurse\n",
      "\n"
     ]
    }
   ],
   "source": [
    "best_matches = recommend(index, test, test_authors, df)"
   ]
  }
 ],
 "metadata": {
  "kernelspec": {
   "display_name": "Python 3",
   "language": "python",
   "name": "python3"
  },
  "language_info": {
   "codemirror_mode": {
    "name": "ipython",
    "version": 3
   },
   "file_extension": ".py",
   "mimetype": "text/x-python",
   "name": "python",
   "nbconvert_exporter": "python",
   "pygments_lexer": "ipython3",
   "version": "3.12.4"
  }
 },
 "nbformat": 4,
 "nbformat_minor": 2
}
