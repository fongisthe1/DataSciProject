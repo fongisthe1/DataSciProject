{
 "cells": [
  {
   "cell_type": "code",
   "execution_count": 110,
   "metadata": {},
   "outputs": [],
   "source": [
    "import pandas as pd\n",
    "import faiss\n",
    "import requests\n",
    "import numpy as np\n",
    "import os"
   ]
  },
  {
   "cell_type": "markdown",
   "metadata": {},
   "source": [
    "Load Index"
   ]
  },
  {
   "cell_type": "code",
   "execution_count": 111,
   "metadata": {},
   "outputs": [
    {
     "name": "stdout",
     "output_type": "stream",
     "text": [
      "Index Loaded\n"
     ]
    }
   ],
   "source": [
    "if os.path.exists('realindex'):\n",
    "  index = faiss.read_index('realindex')\n",
    "  print(\"Index Loaded\") \n",
    "else:\n",
    "  dim = 3072\n",
    "  index = faiss.IndexFlatL2(dim)\n",
    "  print(\"Index Created\")"
   ]
  },
  {
   "cell_type": "markdown",
   "metadata": {},
   "source": [
    "Create text representation"
   ]
  },
  {
   "cell_type": "code",
   "execution_count": 112,
   "metadata": {},
   "outputs": [],
   "source": [
    "def text_rep(row):\n",
    "  text_rep = f\"\"\"Title: {row['Title']}\n",
    "Publication Date: {row['Publication Date']}\n",
    "Keywords: {row['Keywords']}\n",
    "Abstract: {row['Abstract']}\n",
    "Subject Areas: {row['Subject Areas']}\n",
    "\"\"\"\n",
    "  return text_rep"
   ]
  },
  {
   "cell_type": "code",
   "execution_count": 113,
   "metadata": {},
   "outputs": [],
   "source": [
    "datasets = ['./Database-files/2018.csv', './Database-files/2019.csv', './Database-files/2020.csv', './Database-files/2021.csv', './Database-files/2022.csv', './Database-files/2023.csv', './Database-files/final5_arxiv_articles.csv']\n",
    "df = pd.DataFrame()\n",
    "for dataset in datasets:\n",
    "  temp_df = pd.read_csv(dataset)\n",
    "  df = pd.concat([df, temp_df], ignore_index=True)\n",
    "\n",
    "df['text_representation'] = df.apply(text_rep, axis=1)"
   ]
  },
  {
   "cell_type": "code",
   "execution_count": 114,
   "metadata": {},
   "outputs": [
    {
     "data": {
      "text/plain": [
       "0    Title: Recent developments in bifunctional air...\n",
       "1    Title: The benefit of punishment sensitivity o...\n",
       "2    Title: Are endocrine disrupting compounds envi...\n",
       "3    Title: Probabilistic regular grammar inference...\n",
       "4    Title: Optimization of cinnamon oil nanoemulsi...\n",
       "Name: text_representation, dtype: object"
      ]
     },
     "execution_count": 114,
     "metadata": {},
     "output_type": "execute_result"
    }
   ],
   "source": [
    "df.head()['text_representation']"
   ]
  },
  {
   "cell_type": "code",
   "execution_count": 115,
   "metadata": {},
   "outputs": [
    {
     "name": "stdout",
     "output_type": "stream",
     "text": [
      "17438\n"
     ]
    }
   ],
   "source": [
    "print(len(df))"
   ]
  },
  {
   "cell_type": "markdown",
   "metadata": {},
   "source": [
    "Create and Store Embeddings"
   ]
  },
  {
   "cell_type": "code",
   "execution_count": 116,
   "metadata": {},
   "outputs": [],
   "source": [
    "#X = np.empty((len(df['text_representation']), dim), dtype = 'float32')"
   ]
  },
  {
   "cell_type": "code",
   "execution_count": 117,
   "metadata": {},
   "outputs": [],
   "source": [
    "def embed(text_rep):\n",
    "  res = requests.post('http://localhost:11434/api/embeddings', \n",
    "                      json = {\n",
    "                        'model': 'llama3.2',\n",
    "                        'prompt': text_rep\n",
    "                      })\n",
    "  return np.array([res.json()['embedding']], dtype='float32')"
   ]
  },
  {
   "cell_type": "code",
   "execution_count": 118,
   "metadata": {},
   "outputs": [],
   "source": [
    "# for i, text_rep in enumerate(df['text_representation']):\n",
    "#   if i%100 == 0:\n",
    "#     print(i)\n",
    "#   X[i] = embed(text_rep)\n",
    "  \n",
    "# index.add(X)"
   ]
  },
  {
   "cell_type": "code",
   "execution_count": 119,
   "metadata": {},
   "outputs": [],
   "source": [
    "# faiss.write_index(index, 'index')"
   ]
  },
  {
   "cell_type": "markdown",
   "metadata": {},
   "source": [
    "Testing"
   ]
  },
  {
   "cell_type": "code",
   "execution_count": 120,
   "metadata": {},
   "outputs": [
    {
     "name": "stdout",
     "output_type": "stream",
     "text": [
      "0    Title: Recent developments in bifunctional air...\n"
     ]
    }
   ],
   "source": [
    "print(df[df.Title.str.contains('bifunctional air electrodes ')]['text_representation'].to_string())"
   ]
  },
  {
   "cell_type": "code",
   "execution_count": 121,
   "metadata": {},
   "outputs": [],
   "source": [
    "favorite_paper = df.iloc[0]"
   ]
  },
  {
   "cell_type": "code",
   "execution_count": 122,
   "metadata": {},
   "outputs": [],
   "source": [
    "test = \"\"\"Title: Advances in bifunctional electrocatalysts for efficient unitized regenerative proton exchange membrane fuel cells\n",
    "Publication Date: 2021-08-10\n",
    "Keywords: Electrocatalysts, Bifunctional electrodes, Oxygen reduction reaction, Oxygen evolution reaction, PEM fuel cells, Hydrogen production, Energy conversion, Electrochemical performance, Catalyst design, Regenerative fuel cells\n",
    "Abstract: Unitized regenerative proton exchange membrane fuel cells (UR-PEMFCs) have shown promise as a sustainable energy solution for both energy storage and conversion. However, the performance of these systems is heavily dependent on the efficiency of the air electrodes, specifically the bifunctional electrocatalysts that mediate both the oxygen reduction reaction (ORR) and the oxygen evolution reaction (OER). This paper reviews recent developments in bifunctional catalysts for UR-PEMFCs, with a focus on the design and optimization of electrocatalyst materials that enhance both reactions' efficiency. The work highlights the use of non-precious metal catalysts, the role of hybrid materials, and the advances in electrode architectures aimed at improving long-term stability and reducing costs. Recent studies demonstrate that transition metal-based catalysts offer significant potential in improving the round-trip efficiency of UR-PEMFCs, with efficiencies exceeding 60% at moderate current densities.\n",
    "Subject Areas: Renewable Energy, Energy Conversion and Storage, Fuel Cell Technology, Materials Science, Electrochemistry, Environmental Sustainability\n",
    "\"\"\"\n",
    "test_authors = ['Jienkulsawad P.', 'Saebea D.', 'Patcharavorachot Y.', 'Kheawhom S.', 'Arpornwichanop A.']"
   ]
  },
  {
   "cell_type": "code",
   "execution_count": 123,
   "metadata": {},
   "outputs": [],
   "source": [
    "def faiss_search(index, query):\n",
    "  distances, indices = index.search(embed(query), 10)\n",
    "  print(distances[0].max())\n",
    "  return distances[0], indices[0] #We only have 1 query"
   ]
  },
  {
   "cell_type": "code",
   "execution_count": 124,
   "metadata": {},
   "outputs": [],
   "source": [
    "def count_authors_matches(list1,list2):\n",
    "  return sum([author in list1 for author in list2])"
   ]
  },
  {
   "cell_type": "code",
   "execution_count": 125,
   "metadata": {},
   "outputs": [],
   "source": [
    "def weighted_scores(indices, distances, query_authors, df):\n",
    "    results = []\n",
    "    for index, distance in zip(indices, distances):\n",
    "        candidate_paper = df.iloc[index]\n",
    "        authors = candidate_paper['Authors']\n",
    "        matches_amount = count_authors_matches(authors, query_authors)\n",
    "        similarity_score = (1 - distance/distances.max())\n",
    "        weighted_scores = similarity_score * (1.1 ** matches_amount)\n",
    "        \n",
    "        results.append((index, candidate_paper['Title'], weighted_scores))\n",
    "    \n",
    "    sorted_results = sorted(results, key=lambda x: x[2], reverse=True)\n",
    "    return sorted_results\n"
   ]
  },
  {
   "cell_type": "code",
   "execution_count": 126,
   "metadata": {},
   "outputs": [],
   "source": [
    "def recommend(index, query, query_authors, df):\n",
    "  distances, indices = faiss_search(index, query)\n",
    "  best_matches = weighted_scores(indices, distances, query_authors, df)\n",
    "  best_indices = [x[0] for x in best_matches]\n",
    "  best_matches_df = df.iloc[best_indices]\n",
    "  for _,match in best_matches_df.iterrows():\n",
    "     print(f\"{match['text_representation']}Authors: {match['Authors']}\\n\")"
   ]
  },
  {
   "cell_type": "code",
   "execution_count": 127,
   "metadata": {},
   "outputs": [
    {
     "name": "stdout",
     "output_type": "stream",
     "text": [
      "582.0587\n",
      "Title: Lightweight alkali-induced lattice-dynamical stability and energy storage mechanism of quaternary Mg-based hydrides under pressure effect\n",
      "Publication Date: 2022-08-19\n",
      "Keywords: Ab initio, Ambient pressures, Complex hydrides, Diffusion kinetics, Dynamical stability, Hydrogen release, Mg-based hydrides, Phonon dispersion relations, Positive mode, Storage mechanism, Complex hydride, Diffusion kinetics, Hydrogen release, Phase stability\n",
      "Abstract: New-discovery compositions of the lightweight quaternary Mg-based hydrides at ambient pressure are found as NaLiMgH4, NaLiMg2H6, and Na3LiMg4H12, which their stabilities were determined by all positive modes of the phonon dispersion relation. The varying compositions of Na-Li-Mg-H were analyzed using the ab initio random structure searching technique and affirmed by mechanical stability and Born stability criteria. Besides, the effects of pressure on stable structures are considered also. High-gravimetric hydrogen capacity introduces us to study H-vacancy occurrence and H-diffusion kinetics in these lightweight quaternary hydrides. Our calculation results indicated that the NaLiMg2H6 in the P21/m system gave more suitable for hydrogen storage material due to lower energy barriers as well as the hydrogen diffusion kinetics in this lightweight hydride for its practical use in energy storage applications.\n",
      "Subject Areas: Renewable Energy, Sustainability and the Environment, Fuel Technology, Condensed Matter Physics, Energy Engineering and Power Technology\n",
      "Authors: Pluengphon P., Tsuppayakorn-aek P., Tubtimtae A., Inceesungvorn B., Bovornratanaraks T.\n",
      "\n",
      "Title: CdS/ZnO: A Multipronged Approach for Efficient Reduction of Carbon Dioxide under Visible Light Irradiation\n",
      "Publication Date: 2020-04-06\n",
      "Keywords: Clean energy, Electrons and holes, Intrinsic property, Photo-catalytic, Photo-reduction, Photocatalytic reduction, Visible light, Visible-light irradiation, CdS/ZnO, CO2 photocatalytic reduction, heterojunction, photocatalysis, visible light\n",
      "Abstract: Photocatalytic conversion of CO2 to fuels is a sustainable approach to obtain clean energy from CO2 using solar energy. This work focuses on a multipronged approach for efficient photoreduction of CO2 by designing a CdS/ZnO heterojunction photocatalyst. It is found that the combination of CdS and ZnO leads to about 11 times higher activity (383 K) for the reduction of CO2 to fuels than that over CdS under the irradiation of visible light. This is ascribed to the well-matched structural and intrinsic properties of the CdS/ZnO heterojunction, in which generation of electrons and holes by CdS-captured photons, separation and migration of electrons to ZnO by the heterojunction, and efficient adsorption/activation of CO2 on ZnO all work in a concert and harmonious way. This work highlights the potential of improving the performance of CO2 photocatalytic reduction based on a multipronged approach.\n",
      "Subject Areas: Chemistry (all), Environmental Chemistry, Chemical Engineering (all), Renewable Energy, Sustainability and the Environment\n",
      "Authors: Zhang L., Zhang L., Chen Y., Zheng Y., Guo J., Wan S., Wang S., Ngaw C.K., Lin J., Wang Y.\n",
      "\n",
      "Title: Anodized TiO2 nanotubes arrays as microbial fuel cell (MFC) electrodes for wastewater treatment: An overview\n",
      "Publication Date: 2023-04-30\n",
      "Keywords: Array film, Bioelectricity generation, Fuel cell electrodes, Nanotube arrays, Performance, Photo-anodes, Property, SDG 7, Sustainable technology, TiO 2 nanotube, Bioelectricity generation, Biofilms, Microbial fuel cell, SDG 7, TiO2 nanotubes, Wastewater treatment\n",
      "Abstract: This review discusses the main advances in electrodes based on TiO2 nanotube arrays (TNA) to improve the performance of microbial fuel cells (MFC), a sustainable technology for wastewater treatment and bioelectricity generation. The properties and synthesis of anodized TNA films are well-established in the literature. Contrary to the dye-sensitized solar cells, photoelectrochemical water-splitting, photocatalysts, biosensors, and implant applications, where they are widely explored, TNAs are still in the exploratory stage in fuel cells. The precise morphology control by the anodizing conditions, high surface area, low cost, chemical stability, and unidirectional orientation are their attractive properties. TNA-based electrodes have been explored mainly as bioanodes in conventional MFCs, and photoanodes in hybrid MFC systems and evaluated in terms of power and current generation and compared with Ti and carbon-based electrodes. The effects of nanotubular morphology, heat treatment conditions, and surface modification of TNA electrodes are addressed. Its utilization as a photoanode in photo-assisted MFCs is discussed as the strategies for improving MFC performance and turning it cost-effective by coupling other functions, like H2 production and CO2 conversion.\n",
      "Subject Areas: Renewable Energy, Sustainability and the Environment, Energy Engineering and Power Technology, Physical and Theoretical Chemistry, Electrical and Electronic Engineering\n",
      "Authors: Santos J.S., Tarek M., Sikora M.S., Praserthdam S., Praserthdam P.\n",
      "\n",
      "Title: Crystallinity enhancement of extruded polypropylene containing poly(vinyl alcohol) fibers prepared in situ\n",
      "Publication Date: 2022-07-21\n",
      "Keywords: Cristallinity, Isotactic polypropylene, Novel methods, Nucleating agents, Orientation, Poly (vinyl alcohol) (PVA), Poly(vinyl alcohol), Poly(vinyl alcohol) (PVA), PVA fiber, Fiber-reinforced plastic, Nucleating agent, Orientation, Poly(vinyl alcohol), Polypropylene\n",
      "Abstract: The present paper describes a novel method for reinforcing isotactic polypropylene (PP) by adding poly(vinyl alcohol) (PVA) fibers prepared by melt-stretching. Low-viscosity PVA droplets were deformed into fibers in the molten PP by melt-stretching them beyond the melting point of PVA. When the obtained composite was extruded below the melting point of PVA, the fibers became oriented toward the flow direction. The PVA demonstrated marked nucleating activity with regard to PP crystallization, which was further promoted by enlargement of the surface area by fibrillization. As a result, there was virtually no orientation relaxation of the PP chains with an increase in crystallinity, which explains the improvement in rigidity of the reinforced composite.\n",
      "Subject Areas: Organic Chemistry, Polymers and Plastics, Materials Chemistry\n",
      "Authors: Nishikawa R., Eno A., Janchai K., Han R., Kida T., Mori T., Aridome N., Miyamoto A., Yamaguchi M.\n",
      "\n",
      "Title: Exploring the Reaction Mechanism of Heterobimetallic Nickel-Alkali Catalysts for Ethylene Polymerization: Secondary-Metal-Ligand Cooperative Catalysis\n",
      "Publication Date: 2022-07-07\n",
      "Keywords: Active catalyst, Catalyst designs, Cs +, DFT calculation, Ethylene polymerization, Heterobimetallics, Li +, Reaction mechanism, Secondary metals, ]+ catalyst, Catalyst design, DFT calculations, Ethylene polymerization, Heterobimetallic, Mechanism\n",
      "Abstract: In this work, we explored the reaction mechanism of heterobimetallic nickel phenoxyphosphine polyethylene glycol (Ni-PEG) with alkali metals (M+=Li+, Na+, K+, and Cs+) catalysts for ethylene polymerization using the DFT calculations. The activation energy of the necessary step shows the following trend, Li+<Na+<K+<Cs+, which corresponds to experimentally observed activities. Roles of secondary metals (M+) in Ni-PEG catalysts were clarified. Our findings suggest that the active catalyst should contain strong cooperative metal-metal/metal-ligand interactions and less positive charge on M+ cation. Besides, the key role of M+ is to control the PEG group which stabilizes the catalyst structure. In addition, we found two key factors (shorter M-O1 and M-OPEG distances) for designing new catalysts from the pre-reaction state of the Ni-PEG(M+) catalysts. Finally, Ni-PEG(M2+) catalysts with Be2+, Mg2+, Co2+, and Zn2+ were suggested for candidates of highly active catalysts for ethylene polymerization.\n",
      "Subject Areas: Catalysis, Physical and Theoretical Chemistry, Organic Chemistry, Inorganic Chemistry\n",
      "Authors: Apilardmongkol P., Ratanasak M., Hasegawa J.-Y., Parasuk V.\n",
      "\n",
      "Title: Advances in characteristics improvement of polymeric membranes/separators for zinc-air batteries\n",
      "Publication Date: 2022-06-01\n",
      "Keywords: Battery performance, Characteristic improvement, Critical component, Environmental friendliness, Gel polymers, Higher energy density, Ionic selectivity, Membrane separators, Porous polymers, Zinc-air battery, Gel polymer, Ion exchange, Ionic conductivity, Ionic selectivity, Porous polymer\n",
      "Abstract: Zinc-air batteries (ZABs) are gaining popularity for a wide range of applications due to their high energy density, excellent safety, and environmental friendliness. A membrane/separator is a critical component of ZABs, with substantial implications for battery performance and stability, particularly in the case of a battery in solid state format, which has captured increased attention in recent years. In this review, recent advances as well as insight into the architecture of polymeric membrane/separators for ZABs including porous polymer separators (PPSs), gel polymer electrolytes (GPEs), solid polymer electrolytes (SPEs) and anion exchange membranes (AEMs) are discussed. The paper puts forward strategies to enhance stability, ionic conductivity, ionic selectivity, electrolyte storage capacity and mechanical properties for each type of polymeric membrane. In addition, the remaining major obstacles as well as the most potential avenues for future research are examined in detail.\n",
      "Subject Areas: Chemistry (all), Renewable Energy, Sustainability and the Environment, Materials Science (all)\n",
      "Authors: Abbasi A., Xu Y., Khezri R., Etesami M., Lin C., Kheawhom S., Lu Y.\n",
      "\n",
      "Title: A Review on Recent Trends and Future Prospects of Lignin Based Green Rubber Composites\n",
      "Publication Date: 2020-02-01\n",
      "Keywords: Broad application, Dynamic mechanical, Environmental safety, Green technology, Reinforcing fillers, Renewable materials, Rubber composite, Rubber technology, Environmental safety, Filler, Green technology, Lignin, Rubber composites\n",
      "Abstract: In the last two decades, the utilization of non-petroleum based renewable materials on the development of advanced rubber composites has attracted increasing attention of polymer researchers from both industrial and environmental viewpoints. Recently, lignin has emerged as promising non-petroleum based filler in the progress of green rubber technology. This review article aims to present the recent advances of lignin based natural and synthetic rubber composites. The potential of lignin as alternative reinforcing filler in rubber technology is critically evaluated in terms of cure, mechanical, dynamic mechanical and thermal properties. The dispersion of lignin within the rubber matrix is the key parameter that decides the overall performances of lignin based rubber composites. The last section of the review will emphasize the major challenges regarding the broad application of lignin as reinforcing filler in rubber industry. This study will be the part of huge interest of modern rubber researchers concerning the utilization of lignin for the development of non-petroleum based renewable and sustainable rubber composites.\n",
      "Subject Areas: Environmental Engineering, Polymers and Plastics, Materials Chemistry\n",
      "Authors: Roy K., Debnath S.C., Potiyaraj P.\n",
      "\n",
      "Title: Recent developments in biorefining of macroalgae metabolites and their industrial applications - A circular economy approach\n",
      "Publication Date: 2022-09-01\n",
      "Keywords: Bio-energy, Biochemical, Biomass yield, Biorefining, Circular economy, Cosmetic products, Innovative product, Macro-algae, Rapid growth, Skin-care products, Biofuels, Biomass, Seaweed, Biochemicals, Bioenergy, Biorefining, Cosmetics, Macroalgae\n",
      "Abstract: The macroalgal industry is expanding, and the quest for novel ingredients to improve and develop innovative products is crucial. Consumers are increasingly looking for natural-derived ingredients in cosmetic products that have been proven to be effective and safe. Macroalgae-derived compounds have growing popularity in skincare products as they are natural, abundant, biocompatible, and renewable. Due to their high biomass yields, rapid growth rates, and cultivation process, they are gaining widespread recognition as potentially sustainable resources better suited for biorefinery processes. This review demonstrates macroalgae metabolites and their industrial applications in moisturizers, anti-aging, skin whitening, hair, and oral care products. These chemicals can be obtained in combination with energy products to increase the value of macroalgae from an industrial perspective with a zero-waste approach by linking multiple refineries. The key challenges, bottlenecks, and future perspectives in the operation and outlook of macroalgal biorefineries were also discussed.\n",
      "Subject Areas: Bioengineering, Environmental Engineering, Renewable Energy, Sustainability and the Environment, Waste Management and Disposal\n",
      "Authors: Ashokkumar V., Jayashree S., Kumar G., Aruna Sharmili S., Gopal M., Dharmaraj S., Chen W.-H., Kothari R., Manasa I., Hoon Park J., Shruthi S., Ngamcharussrivichai C.\n",
      "\n",
      "Title: Highly filled graphite/graphene/carbon nanotube in polybenzoxazine composites for bipolar plate in PEMFC\n",
      "Publication Date: 2020-11-06\n",
      "Keywords: Benzoxazine, Bipolar plates, Department of Energy, Electrical conductivity, Polybenzoxazine, Proton exchange membrane fuel cell (PEMFCs), Through-plane thermal conductivities, Bipolar plates, CNTs, Graphene, Graphite, Highly filled, Polybenzoxazine\n",
      "Abstract: This research aims to develop polybenzoxazine (PBA) based composites suitable for bipolar plates in proton exchange membrane fuel cells (PEMFCs). PBA composites filled with carbon derivatives i.e. graphite, graphene, and multiwall carbon nanotubes (CNTs) were prepared. The effects of CNT contents from 0–2 wt% at an expense of graphite with constant content of graphene and benzoxazine on properties of the obtained composites were investigated. It was found that the composite with 2 wt% of CNTs exhibited through-plane thermal conductivity as high as 21.3 W/mK which is 44 times higher than that of the composite without CNTs. Also, this composite showed electrical conductivity of 364 S/cm, Flexural Strength of 41.5 MPa and Modulus 49.7 GPa, respectively. These values meet the requirements suggested by the Department of Energy, USA and confirm that these composites are great candidates as bipolar plates for PEMFCs.\n",
      "Subject Areas: Renewable Energy, Sustainability and the Environment, Fuel Technology, Condensed Matter Physics, Energy Engineering and Power Technology\n",
      "Authors: Witpathomwong S., Okhawilai M., Jubsilp C., Karagiannidis P., Rimdusit S.\n",
      "\n",
      "Title: Recent advances in non-metals-doped TiO2 nanostructured photocatalysts for visible-light driven hydrogen production, CO2 reduction and air purification\n",
      "Publication Date: 2019-05-21\n",
      "Keywords: Band gap engineering, CO2 reduction, Environmental stability, Photo-catalytic, Photocatalytic application, Photocatalytic water splitting, Photogenerated electrons, Water splitting reactions, Bandgap engineering, CO2 reduction, Hydrogen production, Metal and non-metal dopants, Photocatalytic air purification, TiO2 nanostructures\n",
      "Abstract: The generation of hydrogen and oxygen from the photocatalytic water splitting reaction under visible light is a promisingly renewable and clean source for H2 fuel. The transition metal oxide semiconductors (e.g. TiO2, WO3, ZnO, and ZrO2)are have been widely used as photocatalysts for the hydrogen generation. Because of safety, low cost, chemical inertness, photostability and other characteristics (bandgap, corrosion resistance, thermal and environmental stability), TiO2 is considered as a most potential catalyst of the semiconductors being investigated and developed. However, the extensive applications of TiO2 are hampered by its inability to exploit the solar energy of visible region. Other demerits are lesser absorbance under visible light, and recombination of photogenerated electron-hole pairs. In this review, we focus on the all the possible reactions taking place at the catalyst during photo-induced H2 from water splitting reaction, which is green and promising technology. Various parameter affecting the photocatalytic water splitting reactions are also studied. Predominantly, this review is focussed on bandgap engineering of TiO2 such as the upward shift of valence band and downward shift of conduction bands by doping process to extend its light absorption property into the visible region. Furthermore, the recent advances in this direction including various new strategies of synthesis, multiple doping, hetero-junction, functionalization, perspective and future opportunities of non-metals-doped TiO2-based nanostructured photocatalysts for various photocatalytic applications such as efficient hydrogen production, air purification and CO2 reduction to valuable chemicals have been discussed.\n",
      "Subject Areas: Renewable Energy, Sustainability and the Environment, Fuel Technology, Condensed Matter Physics, Energy Engineering and Power Technology\n",
      "Authors: Patil S.B., Basavarajappa P.S., Ganganagappa N., Jyothi M.S., Raghu A.V., Reddy K.R.\n",
      "\n"
     ]
    }
   ],
   "source": [
    "best_matches = recommend(index, test, test_authors, df)"
   ]
  }
 ],
 "metadata": {
  "kernelspec": {
   "display_name": "Python 3",
   "language": "python",
   "name": "python3"
  },
  "language_info": {
   "codemirror_mode": {
    "name": "ipython",
    "version": 3
   },
   "file_extension": ".py",
   "mimetype": "text/x-python",
   "name": "python",
   "nbconvert_exporter": "python",
   "pygments_lexer": "ipython3",
   "version": "3.12.7"
  }
 },
 "nbformat": 4,
 "nbformat_minor": 2
}
