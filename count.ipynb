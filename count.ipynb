{
 "cells": [
  {
   "cell_type": "code",
   "execution_count": null,
   "metadata": {},
   "outputs": [
    {
     "name": "stdout",
     "output_type": "stream",
     "text": [
      "File saved to 2023_counts_subject_area.csv\n"
     ]
    }
   ],
   "source": [
    "import pandas as pd\n",
    "\n",
    "\n",
    "file_path = 'DataSciProject/Database-files/2023.csv'\n",
    "data = pd.read_csv(file_path)\n",
    "\n",
    "\n",
    "subject_areas = data['Subject Areas'].dropna().str.split(', ')\n",
    "\n",
    "\n",
    "subject_counts = subject_areas.explode().value_counts()\n",
    "\n",
    "\n",
    "subject_counts_df = subject_counts.reset_index()\n",
    "subject_counts_df.columns = ['Subject Area', 'Count']\n",
    "\n",
    "\n",
    "subject_counts_df.set_index('Subject Area', inplace=True)\n",
    "\n",
    "\n",
    "output_path = '2023_counts_subject_area.csv' \n",
    "subject_counts_df.to_csv(output_path)\n",
    "\n",
    "print(f\"File saved to {output_path}\")\n"
   ]
  }
 ],
 "metadata": {
  "kernelspec": {
   "display_name": ".venv",
   "language": "python",
   "name": "python3"
  },
  "language_info": {
   "codemirror_mode": {
    "name": "ipython",
    "version": 3
   },
   "file_extension": ".py",
   "mimetype": "text/x-python",
   "name": "python",
   "nbconvert_exporter": "python",
   "pygments_lexer": "ipython3",
   "version": "3.13.0"
  }
 },
 "nbformat": 4,
 "nbformat_minor": 2
}
