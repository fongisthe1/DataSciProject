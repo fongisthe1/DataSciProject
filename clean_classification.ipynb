{
 "cells": [
  {
   "cell_type": "code",
   "execution_count": null,
   "metadata": {},
   "outputs": [
    {
     "name": "stdout",
     "output_type": "stream",
     "text": [
      "Grouped classification counts saved to: 2023_counts_classification.csv\n"
     ]
    }
   ],
   "source": [
    "import pandas as pd\n",
    "\n",
    "\n",
    "file_path = 'classification_2023.csv'\n",
    "data = pd.read_csv(file_path)\n",
    "\n",
    "\n",
    "category_mapping = {\n",
    "    'medical': 'Medical',\n",
    "    'Immunology': 'Medical',\n",
    "    'pharmacology': 'Medical',\n",
    "    'neuroscience': 'Medical',\n",
    "    'urology and nephrology': 'Medical',\n",
    "    'cardiovascular diseases': 'Medical',\n",
    "    'oncology': 'Medical',\n",
    "    'dentistry': 'Medical',\n",
    "    'Veterinary Science': 'Medical',\n",
    "    'Health Professions': 'Medical',\n",
    "    'Health Professionsth': 'Medical',\n",
    "    'Health Professionsth policy': 'Medical',\n",
    "    'Health Professionsth systems and services' : 'Medical',\n",
    "    'Nursing':'Medical',\n",
    "    'environmental': 'Environmental',\n",
    "    'coastal engineering': 'Engineering',\n",
    "    'petroleum engineeringneering': 'Engineering',\n",
    "    'civil engineering': 'Engineering',\n",
    "    'Materials Science': 'Engineering',\n",
    "    'computer science': 'Technology and Computer Science',\n",
    "    'robotics': 'Technology and Computer Science',\n",
    "    'information and communication theory': 'Technology and Computer Science',\n",
    "    'biochemistryistry': 'Biological Sciences',\n",
    "    'genetics': 'Biological Sciences',\n",
    "    'microbiology': 'Biological Sciences',\n",
    "    'plant science': 'Biological Sciences',\n",
    "    'ecology': 'Environmental',\n",
    "    'environmentalronmental sciences': 'Environmental',\n",
    "    'pollution': 'Environmental',\n",
    "    'physics': 'Physics and Chemistry',\n",
    "    'chemistry': 'Physics and Chemistry',\n",
    "    'biophysicsics': 'Physics and Chemistry',\n",
    "    'psychology': 'Social Sciences',\n",
    "    'sociology': 'Social Sciences',\n",
    "    'Economics': 'Social Sciences',\n",
    "    'Multidisciplinary': 'Multidisciplinary',\n",
    "    'general': 'Multidisciplinary',\n",
    "    'Mathematicsematical statistics': 'Mathematics',\n",
    "    'Multidisciplinary':'Other',\n",
    "    'corrosion':'Other',\n",
    "    'water engineeringneering': 'Engineering',\n",
    "    'other': 'Other',\n",
    "    'petroleum substitutes; energygy supply; conversion and storage':'Environmental',\n",
    "    'process equipment':'Other'\n",
    "}\n",
    "\n",
    "# Apply the mapping function to group classifications\n",
    "def map_classification(classification):\n",
    "    for key in category_mapping.keys():\n",
    "        if key.lower() in classification.lower():\n",
    "            return category_mapping[key]\n",
    "    return classification  \n",
    "\n",
    "\n",
    "data['Category'] = data['Classification'].apply(map_classification)\n",
    "\n",
    "\n",
    "data.loc[data['Count'] < 5, 'Category'] = 'Other'\n",
    "\n",
    "\n",
    "grouped_summary = data.groupby('Category')['Count'].sum().reset_index()\n",
    "\n",
    "\n",
    "output_file_path = '2023_counts_classification.csv'\n",
    "grouped_summary.to_csv(output_file_path, index=False)\n",
    "\n",
    "\n",
    "print(f\"Grouped classification counts saved to: {output_file_path}\")\n"
   ]
  }
 ],
 "metadata": {
  "kernelspec": {
   "display_name": ".venv",
   "language": "python",
   "name": "python3"
  },
  "language_info": {
   "codemirror_mode": {
    "name": "ipython",
    "version": 3
   },
   "file_extension": ".py",
   "mimetype": "text/x-python",
   "name": "python",
   "nbconvert_exporter": "python",
   "pygments_lexer": "ipython3",
   "version": "3.13.0"
  }
 },
 "nbformat": 4,
 "nbformat_minor": 2
}
