{
 "cells": [
  {
   "cell_type": "code",
   "execution_count": 1,
   "metadata": {},
   "outputs": [],
   "source": [
    "import pandas as pd"
   ]
  },
  {
   "cell_type": "code",
   "execution_count": 5,
   "metadata": {},
   "outputs": [],
   "source": [
    "df = pd.read_csv(\"Cleaned_2018_Papers.csv\")\n",
    "new_df = df[\"Classification\"]\n"
   ]
  },
  {
   "cell_type": "code",
   "execution_count": null,
   "metadata": {},
   "outputs": [
    {
     "name": "stdout",
     "output_type": "stream",
     "text": [
      "Classification\n",
      "medical                                                                                                                             143\n",
      "fluidex; related topics, computer science                                                                                            59\n",
      "fluidex; related topics, materials, engineering                                                                                      37\n",
      "medical, biochemistry                                                                                                                25\n",
      "dentistry                                                                                                                            23\n",
      "                                                                                                                                   ... \n",
      "environmentalronmental health and pollution control, regional and general, environmental, medical                                     1\n",
      "coastal and ocean engineeringneering, coastal engineering, environmental                                                              1\n",
      "fluidex; related topics, computer science, decision sciences, engineering, sociology                                                  1\n",
      "psychology                                                                                                                            1\n",
      "applied microbiology and biotechnology; plant biotechnology; energy, mixing and separation, geobase; related topics, agriculture      1\n",
      "Name: count, Length: 544, dtype: int64\n"
     ]
    }
   ],
   "source": [
    "# Define a dictionary for abbreviation mapping\n",
    "abbreviation_mapping = {\n",
    "    \"medi\": \"medical\",\n",
    "    \"bioc\": \"biochemistry\",\n",
    "    \"dent\": \"dentistry\",\n",
    "    \"engi\": \"engineering\",\n",
    "    \"mate\": \"materials\",\n",
    "    \"comp\": \"computer science\",\n",
    "    \"deci\": \"decision sciences\",\n",
    "    \"soci\": \"sociology\",\n",
    "    \"psyc\": \"psychology\",\n",
    "    \"agri\": \"agriculture\",\n",
    "    \"envi\": \"environmental\",\n",
    "    \"ceng\": \"coastal engineering\",\n",
    "    \"ener\": \"energy\",\n",
    "    \"phys\": \"physics\",\n",
    "    \"nuer\": \"neuroscience\",\n",
    "    \"phar\": \"pharmacology\",\n",
    "    \"chem\": \"chemistry\",\n",
    "    \"eart\": \"earth sciences\",\n",
    "    \"immu\": \"Immunology\",\n",
    "    \"vete\": \"Veterinary Science\",\n",
    "    \"heal\": \"Health Professions\",\n",
    "    \"math\": \"Mathematics\",\n",
    "    \"econ\": \"Economics\",\n",
    "    \"busi\": \"Business\",\n",
    "    \"nurs\": \"Nursing\",\n",
    "    \"mult\": \"Multidisciplinary\",\n",
    "    \"mate\": \"Materials Science\",\n",
    "    \"agri\": \"Agricultural and Biological Sciences\"\n",
    "    \n",
    "}\n",
    "\n",
    "\n",
    "def replace_abbreviations(classification_str):\n",
    "    if pd.isna(classification_str):  # Handle NaN values\n",
    "        return classification_str\n",
    "    for abbrev, full_text in abbreviation_mapping.items():\n",
    "        classification_str = classification_str.replace(abbrev, full_text)\n",
    "    return classification_str\n",
    "\n",
    "# Apply the replacement function to the Classification column\n",
    "df['Classification'] = df['Classification'].apply(replace_abbreviations)\n",
    "\n",
    "\n",
    "print(df['Classification'].value_counts())\n"
   ]
  },
  {
   "cell_type": "code",
   "execution_count": 7,
   "metadata": {},
   "outputs": [
    {
     "name": "stdout",
     "output_type": "stream",
     "text": [
      "Classification\n",
      "medi                                                                                                                         143\n",
      "fluidex; related topics, comp                                                                                                 59\n",
      "fluidex; related topics, mate, engi                                                                                           37\n",
      "medi, bioc                                                                                                                    25\n",
      "dent                                                                                                                          23\n",
      "                                                                                                                            ... \n",
      "environmental health and pollution control, regional and general, envi, medi                                                   1\n",
      "coastal and ocean engineering, ceng, envi                                                                                      1\n",
      "fluidex; related topics, comp, deci, engi, soci                                                                                1\n",
      "psyc                                                                                                                           1\n",
      "applied microbiology and biotechnology; plant biotechnology; energy, mixing and separation, geobase; related topics, agri      1\n",
      "Name: count, Length: 544, dtype: int64\n"
     ]
    }
   ],
   "source": [
    "print(new_df.value_counts())"
   ]
  },
  {
   "cell_type": "code",
   "execution_count": null,
   "metadata": {},
   "outputs": [
    {
     "name": "stdout",
     "output_type": "stream",
     "text": [
      "Modified file saved to: 2023.csv\n"
     ]
    }
   ],
   "source": [
    "import pandas as pd\n",
    "\n",
    "# Define a dictionary for abbreviation mapping\n",
    "abbreviation_mapping = {\n",
    "    \"medi\": \"medical\",\n",
    "    \"bioc\": \"biochemistry\",\n",
    "    \"dent\": \"dentistry\",\n",
    "    \"engi\": \"engineering\",\n",
    "    \"mate\": \"materials\",\n",
    "    \"comp\": \"computer science\",\n",
    "    \"deci\": \"decision sciences\",\n",
    "    \"soci\": \"sociology\",\n",
    "    \"psyc\": \"psychology\",\n",
    "    \"agri\": \"agriculture\",\n",
    "    \"envi\": \"environmental\",\n",
    "    \"ceng\": \"coastal engineering\",\n",
    "    \"ener\": \"energy\",\n",
    "    \"phys\": \"physics\",\n",
    "    \"neur\": \"neuroscience\",\n",
    "    \"phar\": \"pharmacology\",\n",
    "    \"chem\": \"chemistry\",\n",
    "    \"eart\": \"earth sciences\",\n",
    "    \"immu\": \"Immunology\",\n",
    "    \"vete\": \"Veterinary Science\",\n",
    "    \"heal\": \"Health Professions\",\n",
    "    \"math\": \"Mathematics\",\n",
    "    \"econ\": \"Economics\",\n",
    "    \"busi\": \"Business\",\n",
    "    \"nurs\": \"Nursing\",\n",
    "    \"mult\": \"Multidisciplinary\",\n",
    "    \"mate\": \"Materials Science\",\n",
    "    \"agri\": \"Agricultural and Biological Sciences\",\n",
    "}\n",
    "\n",
    "\n",
    "def replace_abbreviations(classification_str):\n",
    "    if pd.isna(classification_str):  # Handle NaN values\n",
    "        return classification_str\n",
    "    for abbrev, full_text in abbreviation_mapping.items():\n",
    "        classification_str = classification_str.replace(abbrev, full_text)\n",
    "    return classification_str\n",
    "\n",
    "\n",
    "def process_csv_file(input_file, output_file):\n",
    "    try:\n",
    "     \n",
    "        df = pd.read_csv(input_file)\n",
    "\n",
    "        if 'Classification' in df.columns:\n",
    "         \n",
    "            df['Classification'] = df['Classification'].apply(replace_abbreviations)\n",
    "\n",
    "           \n",
    "            df.to_csv(output_file, index=False)\n",
    "            print(f\"Modified file saved to: {output_file}\")\n",
    "        else:\n",
    "            print(\"The input file does not have a 'Classification' column.\")\n",
    "    except Exception as e:\n",
    "        print(f\"An error occurred: {e}\")\n",
    "\n",
    "\n",
    "input_csv_file = \"Cleaned_2023_Papers.csv\"\n",
    "output_csv_file = \"2023.csv\" \n",
    "\n",
    "process_csv_file(input_csv_file, output_csv_file)\n"
   ]
  }
 ],
 "metadata": {
  "kernelspec": {
   "display_name": ".venv",
   "language": "python",
   "name": "python3"
  },
  "language_info": {
   "codemirror_mode": {
    "name": "ipython",
    "version": 3
   },
   "file_extension": ".py",
   "mimetype": "text/x-python",
   "name": "python",
   "nbconvert_exporter": "python",
   "pygments_lexer": "ipython3",
   "version": "3.13.0"
  }
 },
 "nbformat": 4,
 "nbformat_minor": 2
}
